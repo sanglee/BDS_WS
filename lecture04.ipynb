{
  "nbformat": 4,
  "nbformat_minor": 0,
  "metadata": {
    "kernelspec": {
      "display_name": "Python 3",
      "language": "python",
      "name": "python3"
    },
    "language_info": {
      "codemirror_mode": {
        "name": "ipython",
        "version": 3
      },
      "file_extension": ".py",
      "mimetype": "text/x-python",
      "name": "python",
      "nbconvert_exporter": "python",
      "pygments_lexer": "ipython3",
      "version": "3.8.5"
    },
    "toc": {
      "base_numbering": 1,
      "nav_menu": {
        "height": "138px",
        "width": "252px"
      },
      "number_sections": false,
      "sideBar": true,
      "skip_h1_title": false,
      "title_cell": "Table of Contents",
      "title_sidebar": "Contents",
      "toc_cell": false,
      "toc_position": {},
      "toc_section_display": "block",
      "toc_window_display": true
    },
    "varInspector": {
      "cols": {
        "lenName": 16,
        "lenType": 16,
        "lenVar": 40
      },
      "kernels_config": {
        "python": {
          "delete_cmd_postfix": "",
          "delete_cmd_prefix": "del ",
          "library": "var_list.py",
          "varRefreshCmd": "print(var_dic_list())"
        },
        "r": {
          "delete_cmd_postfix": ") ",
          "delete_cmd_prefix": "rm(",
          "library": "var_list.r",
          "varRefreshCmd": "cat(var_dic_list()) "
        }
      },
      "types_to_exclude": [
        "module",
        "function",
        "builtin_function_or_method",
        "instance",
        "_Feature"
      ],
      "window_display": false
    },
    "colab": {
      "name": "lecture04.ipynb",
      "provenance": [],
      "include_colab_link": true
    }
  },
  "cells": [
    {
      "cell_type": "markdown",
      "metadata": {
        "id": "view-in-github",
        "colab_type": "text"
      },
      "source": [
        "<a href=\"https://colab.research.google.com/github/sanglee/BDS_WS/blob/main/lecture04.ipynb\" target=\"_parent\"><img src=\"https://colab.research.google.com/assets/colab-badge.svg\" alt=\"Open In Colab\"/></a>"
      ]
    },
    {
      "cell_type": "markdown",
      "metadata": {
        "id": "wfAxcMG6nR-a"
      },
      "source": [
        "## Biomedical Data Science Winter School\n",
        "\n",
        "@author: Sangkyun Lee  (sangkyun@korea.ac.kr)\n",
        "\n",
        "___ML IV: SVM, Model Selection, Performance Measures___"
      ]
    },
    {
      "cell_type": "markdown",
      "metadata": {
        "id": "o_mmNOA_nR-d"
      },
      "source": [
        "---"
      ]
    },
    {
      "cell_type": "code",
      "metadata": {
        "id": "CCGuDIGsnR-f"
      },
      "source": [
        "# A utility function to plot decision boundaries in 2D\n",
        "\n",
        "from matplotlib.colors import ListedColormap\n",
        "\n",
        "\n",
        "def plot_decision_regions(X, y, classifier, test_idx=None, resolution=0.02):\n",
        "\n",
        "    # setup marker generator and color map\n",
        "    markers = ('s', 'x', 'o', '^', 'v')\n",
        "    colors = ('red', 'blue', 'lightgreen', 'gray', 'cyan')\n",
        "    cmap = ListedColormap(colors[:len(np.unique(y))])\n",
        "\n",
        "    # plot the decision surface\n",
        "    x1_min, x1_max = X[:, 0].min() - 1, X[:, 0].max() + 1\n",
        "    x2_min, x2_max = X[:, 1].min() - 1, X[:, 1].max() + 1\n",
        "    xx1, xx2 = np.meshgrid(np.arange(x1_min, x1_max, resolution),\n",
        "                           np.arange(x2_min, x2_max, resolution))\n",
        "    Z = classifier.predict(np.array([xx1.ravel(), xx2.ravel()]).T)\n",
        "    Z = Z.reshape(xx1.shape)\n",
        "    plt.contourf(xx1, xx2, Z, alpha=0.4, cmap=cmap)\n",
        "    plt.xlim(xx1.min(), xx1.max())\n",
        "    plt.ylim(xx2.min(), xx2.max())\n",
        "\n",
        "    for idx, cl in enumerate(np.unique(y)):\n",
        "        plt.scatter(x=X[y == cl, 0], \n",
        "                    y=X[y == cl, 1],\n",
        "                    alpha=0.6, \n",
        "                    c=[cmap(idx)]*sum(y == cl),\n",
        "                    edgecolor='black',\n",
        "                    marker=markers[idx], \n",
        "                    label=cl)\n",
        "\n",
        "    # highlight test samples\n",
        "    if test_idx:\n",
        "        # plot all samples\n",
        "        if not versiontuple(np.__version__) >= versiontuple('1.9.0'):\n",
        "            X_test, y_test = X[list(test_idx), :], y[list(test_idx)]\n",
        "            warnings.warn('Please update to NumPy 1.9.0 or newer')\n",
        "        else:\n",
        "            X_test, y_test = X[test_idx, :], y[test_idx]\n",
        "\n",
        "        plt.scatter(X_test[:, 0],\n",
        "                    X_test[:, 1],\n",
        "                    c='',\n",
        "                    alpha=1.0,\n",
        "                    edgecolor='black',\n",
        "                    linewidths=1,\n",
        "                    marker='o',\n",
        "                    s=55, label='test set')"
      ],
      "execution_count": null,
      "outputs": []
    },
    {
      "cell_type": "markdown",
      "metadata": {
        "id": "EHD6M71lnR-g"
      },
      "source": [
        "---\n",
        "### Loading the IRIS data"
      ]
    },
    {
      "cell_type": "code",
      "metadata": {
        "id": "u3x1phJknR-g"
      },
      "source": [
        "import pandas as pd\n",
        "\n",
        "df = pd.read_csv('https://archive.ics.uci.edu/ml/'\n",
        "        'machine-learning-databases/iris/iris.data', names= ['Sepal Length', 'Sepal Width', 'Petal Length', 'Petal Width', 'Label'])"
      ],
      "execution_count": null,
      "outputs": []
    },
    {
      "cell_type": "code",
      "metadata": {
        "id": "WkvTJcE1nR-g",
        "outputId": "9cfa4a84-29c3-42eb-de20-67cc5e0cd525"
      },
      "source": [
        "df.head()"
      ],
      "execution_count": null,
      "outputs": [
        {
          "output_type": "execute_result",
          "data": {
            "text/html": [
              "<div>\n",
              "<style scoped>\n",
              "    .dataframe tbody tr th:only-of-type {\n",
              "        vertical-align: middle;\n",
              "    }\n",
              "\n",
              "    .dataframe tbody tr th {\n",
              "        vertical-align: top;\n",
              "    }\n",
              "\n",
              "    .dataframe thead th {\n",
              "        text-align: right;\n",
              "    }\n",
              "</style>\n",
              "<table border=\"1\" class=\"dataframe\">\n",
              "  <thead>\n",
              "    <tr style=\"text-align: right;\">\n",
              "      <th></th>\n",
              "      <th>Sepal Length</th>\n",
              "      <th>Sepal Width</th>\n",
              "      <th>Petal Length</th>\n",
              "      <th>Petal Width</th>\n",
              "      <th>Label</th>\n",
              "    </tr>\n",
              "  </thead>\n",
              "  <tbody>\n",
              "    <tr>\n",
              "      <th>0</th>\n",
              "      <td>5.1</td>\n",
              "      <td>3.5</td>\n",
              "      <td>1.4</td>\n",
              "      <td>0.2</td>\n",
              "      <td>Iris-setosa</td>\n",
              "    </tr>\n",
              "    <tr>\n",
              "      <th>1</th>\n",
              "      <td>4.9</td>\n",
              "      <td>3.0</td>\n",
              "      <td>1.4</td>\n",
              "      <td>0.2</td>\n",
              "      <td>Iris-setosa</td>\n",
              "    </tr>\n",
              "    <tr>\n",
              "      <th>2</th>\n",
              "      <td>4.7</td>\n",
              "      <td>3.2</td>\n",
              "      <td>1.3</td>\n",
              "      <td>0.2</td>\n",
              "      <td>Iris-setosa</td>\n",
              "    </tr>\n",
              "    <tr>\n",
              "      <th>3</th>\n",
              "      <td>4.6</td>\n",
              "      <td>3.1</td>\n",
              "      <td>1.5</td>\n",
              "      <td>0.2</td>\n",
              "      <td>Iris-setosa</td>\n",
              "    </tr>\n",
              "    <tr>\n",
              "      <th>4</th>\n",
              "      <td>5.0</td>\n",
              "      <td>3.6</td>\n",
              "      <td>1.4</td>\n",
              "      <td>0.2</td>\n",
              "      <td>Iris-setosa</td>\n",
              "    </tr>\n",
              "  </tbody>\n",
              "</table>\n",
              "</div>"
            ],
            "text/plain": [
              "   Sepal Length  Sepal Width  Petal Length  Petal Width        Label\n",
              "0           5.1          3.5           1.4          0.2  Iris-setosa\n",
              "1           4.9          3.0           1.4          0.2  Iris-setosa\n",
              "2           4.7          3.2           1.3          0.2  Iris-setosa\n",
              "3           4.6          3.1           1.5          0.2  Iris-setosa\n",
              "4           5.0          3.6           1.4          0.2  Iris-setosa"
            ]
          },
          "metadata": {
            "tags": []
          },
          "execution_count": 3
        }
      ]
    },
    {
      "cell_type": "code",
      "metadata": {
        "id": "t_Z902FunR-h"
      },
      "source": [
        "# Prepare data matrix and labels\n",
        "\n",
        "import numpy as np\n",
        "from sklearn.preprocessing import LabelEncoder\n",
        "\n",
        "X = df.iloc[:, [2, 3]].values\n",
        "y = df.iloc[:, 4].values\n",
        "enc_y = LabelEncoder()\n",
        "enc_y.fit(y)\n",
        "y = enc_y.transform(y)\n",
        "feature_names = df.columns.values[[2,3]]\n",
        "\n",
        "from sklearn.model_selection import train_test_split\n",
        "\n",
        "X_train, X_test, y_train, y_test = train_test_split(\n",
        "    X, y, test_size=0.3, random_state=0)\n",
        "X_train, X_val, y_train, y_val = train_test_split(\n",
        "    X_train, y_train, test_size=0.3, random_state=0)\n",
        "\n",
        "from sklearn.preprocessing import StandardScaler\n",
        "sc = StandardScaler()\n",
        "sc.fit(X_train)\n",
        "X_train_std = sc.transform(X_train)\n",
        "X_val_std = sc.transform(X_val)\n",
        "X_test_std = sc.transform(X_test)"
      ],
      "execution_count": null,
      "outputs": []
    },
    {
      "cell_type": "markdown",
      "metadata": {
        "id": "PSadscWpnR-i"
      },
      "source": [
        "---\n",
        "## Support Vector Machine (SVM)\n",
        "\n",
        "- A linear classifier, invented by V. Vapnik\n",
        "  - The father of machine learning\n",
        "  - Cortes, Corinna; Vapnik, Vladimir N., Support-vector networks,  Machine Learning, 20 (3): 273–297 (1995)\n",
        "- The notion of the \"margin\" between two class point clouds\n",
        "  - While **minimizing prediction error**, SVM **maximizes the margin** at the same time\n",
        "- SVM is hardly overfit, under regular conditions\n",
        "- SVM can use **kernels**\n",
        "\n",
        "\n",
        "<img src=\"https://raw.githubusercontent.com/sanglee/BDS_WS/master/img/03_09.png\" width=800>"
      ]
    },
    {
      "cell_type": "markdown",
      "metadata": {
        "id": "l4dCFyE5nR-i"
      },
      "source": [
        "#### Some details\n",
        "\n",
        "- Data\n",
        " - Input $x^{(i)} \\in R^p$, $i=1,2,\\dots,n$\n",
        " - Label $y^{(i)} \\in \\{-1,+1\\}$, $i=1,2,\\dots,n$\n",
        "\n",
        "\n",
        "- The length of the margin: $\\frac{2}{||w||_2}$\n",
        "\n",
        "- Loss:\n",
        "\n",
        "$$\n",
        "\\begin{cases}\n",
        "  w^T x^{(i)} + w_0 \\ge 1 & \\text{if $y^{(i)} = 1$} \\\\\n",
        "  w^T x^{(i)} + w_0 \\le -1 & \\text{if $y^{(i)} = -1$}\n",
        "\\end{cases}\n",
        ", i=1,2,\\dots, n\n",
        "$$\n",
        "This leads to\n",
        "$$\n",
        " y^{(i)} (w^T x^{(i)} + w_0)\\ge 1, \\;\\; i=1,2,\\dots,n\n",
        "$$\n",
        "\n",
        "#### SVM Training Problem\n",
        "Soft-margin SVM (quadratic program):\n",
        "\n",
        "\\begin{align*}\n",
        " \\min_{w,w_0} &\\;\\; \\frac12 \\|w\\|_2^2 + C \\sum_{i=1}^n \\xi_i\\\\\n",
        " \\text{subject to} &\\;\\; y^{(i)} (w^T x^{(i)} + w_0) \\ge 1 - \\xi_i, \\;\\; i=1,2,\\dots,n \\\\\n",
        "  &\\;\\; \\xi_i \\ge 0\n",
        "\\end{align*}"
      ]
    },
    {
      "cell_type": "markdown",
      "metadata": {
        "id": "jnP13y6ZnR-i"
      },
      "source": [
        "### SVM in Scikit-Learn"
      ]
    },
    {
      "cell_type": "code",
      "metadata": {
        "id": "0XbdDXRZnR-j",
        "outputId": "8869d6a5-3eea-40e4-9fde-e7036273fef6"
      },
      "source": [
        "from sklearn.svm import SVC\n",
        "import matplotlib.pyplot as plt\n",
        "from sklearn.metrics import accuracy_score\n",
        "\n",
        "svm = SVC(kernel='linear', C=10.0)\n",
        "\n",
        "svm.fit(X_train_std, y_train)           # standardization is recommended for numerical reasons here\n",
        "\n",
        "plot_decision_regions(X_train_std,           \n",
        "                      y_train,\n",
        "                      classifier=svm)\n",
        "plt.xlabel('petal length [standardized]')\n",
        "plt.ylabel('petal width [standardized]')\n",
        "plt.legend(loc='upper left')\n",
        "plt.tight_layout()\n",
        "plt.show()\n",
        "\n",
        "print('Train accuracy: %f' % accuracy_score(svm.predict(X_train_std), y_train))\n",
        "print('Test accuracy: %f' % accuracy_score(svm.predict(X_test_std), y_test))"
      ],
      "execution_count": null,
      "outputs": [
        {
          "output_type": "display_data",
          "data": {
            "image/png": "[encoded data removed]",
            "text/plain": [
              "<Figure size 432x288 with 1 Axes>"
            ]
          },
          "metadata": {
            "tags": [],
            "needs_background": "light"
          }
        },
        {
          "output_type": "stream",
          "text": [
            "Train accuracy: 0.945205\n",
            "Test accuracy: 0.977778\n"
          ],
          "name": "stdout"
        }
      ]
    },
    {
      "cell_type": "markdown",
      "metadata": {
        "id": "vduQYi8snR-k"
      },
      "source": [
        "### Feature Importance"
      ]
    },
    {
      "cell_type": "markdown",
      "metadata": {
        "id": "Xlwr4cgMnR-l"
      },
      "source": [
        "- Linear models (logistic regression, linear SVM, perceptron, ...)\n",
        "  - Prediction for an input $x^{(i)}$ is produced by $\\hat y^{(i)} = f(w^T x^{(i)})$, where $f$ is some function, e.g., to convert linear output to binary outcome.\n",
        "  - $w^T x^{(i)} = \\sum_{j=1}^p w_j x^{(i)}_j$ \n",
        "  - We call $w_1, w_2, \\dots, w_p$ as **coefficients**, **weights**, or **learning parameters**\n",
        "  - In scikit-learn, `<model>.coef_` contains the coefficients\n",
        "  \n",
        "- Non-linear models (decision trees, random forest, nonlinear SVM, ...)\n",
        "  - This type of models provides other ways to measure feature importance\n",
        "    - DT, RF: `<model>.feature_importances_`\n",
        "  - In some models, it is not easy to extract feature importance\n",
        "    - Nonlinear SVM"
      ]
    },
    {
      "cell_type": "code",
      "metadata": {
        "id": "VxG1wqUEnR-l",
        "outputId": "0348e6ca-8422-464c-9492-281d3e0ce587"
      },
      "source": [
        "svm.coef_"
      ],
      "execution_count": null,
      "outputs": [
        {
          "output_type": "execute_result",
          "data": {
            "text/plain": [
              "array([[-1.06139348, -1.1489091 ],\n",
              "       [-0.57330686, -0.57625103],\n",
              "       [-2.65965384, -4.01574174]])"
            ]
          },
          "metadata": {
            "tags": []
          },
          "execution_count": 6
        }
      ]
    },
    {
      "cell_type": "markdown",
      "metadata": {
        "id": "TseQzz1AnR-l"
      },
      "source": [
        "---\n",
        "## Nonlinear Classification"
      ]
    },
    {
      "cell_type": "code",
      "metadata": {
        "id": "rVwfNeU0nR-l",
        "outputId": "625bd97d-59fe-412f-9198-8968887f37f5"
      },
      "source": [
        "import matplotlib.pyplot as plt\n",
        "import numpy as np\n",
        "\n",
        "np.random.seed(1)\n",
        "X_xor = np.random.randn(200, 2)\n",
        "y_xor = np.logical_xor(X_xor[:, 0] > 0,\n",
        "                       X_xor[:, 1] > 0)\n",
        "y_xor = np.where(y_xor, 1, -1)\n",
        "\n",
        "plt.scatter(X_xor[y_xor == 1, 0],\n",
        "            X_xor[y_xor == 1, 1],\n",
        "            c='b', marker='x',\n",
        "            label='1')\n",
        "plt.scatter(X_xor[y_xor == -1, 0],\n",
        "            X_xor[y_xor == -1, 1],\n",
        "            c='r',\n",
        "            marker='s',\n",
        "            label='-1')\n",
        "\n",
        "plt.xlim([-3, 3])\n",
        "plt.ylim([-3, 3])\n",
        "plt.legend(loc='best')\n",
        "plt.tight_layout()\n",
        "plt.show()"
      ],
      "execution_count": null,
      "outputs": [
        {
          "output_type": "display_data",
          "data": {
            "image/png": "[encoded data removed]",
            "text/plain": [
              "<Figure size 432x288 with 1 Axes>"
            ]
          },
          "metadata": {
            "tags": [],
            "needs_background": "light"
          }
        }
      ]
    },
    {
      "cell_type": "markdown",
      "metadata": {
        "id": "t1fqXNmgnR-m"
      },
      "source": [
        "---\n",
        "### Feature Mapping $\\phi$\n",
        "\n",
        "The feature mapping $\\phi$ transforms data points into another **representation**\n",
        "\n",
        "For example, in the following figure,\n",
        "- Original representation: $(x_1, x_2)$  : **input space**\n",
        "- New representation: $(z_1, z_2, z_3)$  : **feature space**\n",
        "\n",
        "$(z_1, z_2, z_3) = (x_1, x_2, x_1^2 + x_2^2)$\n",
        "\n",
        "The idea: learn an SVM in the feature space where data points are linearly separable!"
      ]
    },
    {
      "cell_type": "markdown",
      "metadata": {
        "id": "TofA7fW7nR-m"
      },
      "source": [
        "<img src=\"https://raw.githubusercontent.com/sanglee/BDS_WS/master/img/03_11.png\" width=700>"
      ]
    },
    {
      "cell_type": "markdown",
      "metadata": {
        "id": "TCsQ2PlanR-m"
      },
      "source": [
        "---\n",
        "### Kernel trick\n",
        "\n",
        "What is a good feature mapping $\\phi$? It is hard to design a good $\\phi$ for a given data set.\n",
        "\n",
        "Define and use **kernel** instead of $\\phi$:\n",
        "\n",
        "$$\n",
        "  k(x^{(i)},x^{(j)}) = \\langle \\phi(x^{(i)}), \\phi(x^{(j)}) \\rangle\n",
        "$$\n",
        "\n",
        "#### Linear Kernel:\n",
        "$$\n",
        "  k(x^{(i)},x^{(j)}) = \\langle x^{(i)}, x^{(j)} \\rangle\n",
        "$$\n",
        "- This does no transformation at all.\n",
        "\n",
        "\n",
        "#### Gaussian RBF Kernel (RBF: Radial Basis Function), a.k.a. Gaussian Kernel:\n",
        "\\begin{align*}\n",
        " k(x^{(i)},x^{(j)}) &= \\exp\\left( -\\frac{\\|x^{(i)}-x^{(j)}\\|_2^2}{2\\sigma^2} \\right)\n",
        " = \\exp\\left( - \\gamma \\|x^{(i)}-x^{(j)}\\|_2^2 \\right)\n",
        "\\end{align*}\n",
        "\n",
        "- This maps data points into **Reproducing Kernel Hilbert Space (RKHS)**\n",
        "- The hyper-parameter $\\gamma = \\frac{1}{2\\sigma^2}$ is to be determined by the user."
      ]
    },
    {
      "cell_type": "code",
      "metadata": {
        "id": "P9Pn8HBtnR-m",
        "outputId": "bc097af4-9b1e-4e6e-a23d-36af3555fbde"
      },
      "source": [
        "#\n",
        "# SVM on XOR data\n",
        "#\n",
        "svm = SVC(kernel='rbf', random_state=1, gamma=250, C=10)\n",
        "svm.fit(X_xor, y_xor)\n",
        "plot_decision_regions(X_xor, y_xor,\n",
        "                      classifier=svm)\n",
        "\n",
        "plt.legend(loc='upper left')\n",
        "plt.tight_layout()\n",
        "plt.show()"
      ],
      "execution_count": null,
      "outputs": [
        {
          "output_type": "display_data",
          "data": {
            "image/png": "[encoded data removed]",
            "text/plain": [
              "<Figure size 432x288 with 1 Axes>"
            ]
          },
          "metadata": {
            "tags": [],
            "needs_background": "light"
          }
        }
      ]
    },
    {
      "cell_type": "code",
      "metadata": {
        "id": "QvRR-EMCnR-m",
        "outputId": "be48fefe-537a-40d9-9d7b-fdaf65e403d7"
      },
      "source": [
        "#\n",
        "# SVM on IRIS data\n",
        "#\n",
        "\n",
        "from sklearn.svm import SVC\n",
        "\n",
        "svm = SVC(kernel='rbf', gamma=0.2, C=1.0)  # gamma=100.0, C=1.0\n",
        "svm.fit(X_train_std, y_train)\n",
        "\n",
        "plot_decision_regions(X_train_std, y_train, classifier=svm)\n",
        "plt.xlabel('petal length [standardized]')\n",
        "plt.ylabel('petal width [standardized]')\n",
        "plt.legend(loc='upper left')\n",
        "plt.tight_layout()\n",
        "plt.show()\n",
        "\n",
        "print('Train accuracy: %f' % accuracy_score(svm.predict(X_train_std), y_train))\n",
        "print('Test accuracy: %f' % accuracy_score(svm.predict(X_test_std), y_test))"
      ],
      "execution_count": null,
      "outputs": [
        {
          "output_type": "display_data",
          "data": {
            "image/png": "[encoded data removed]",
            "text/plain": [
              "<Figure size 432x288 with 1 Axes>"
            ]
          },
          "metadata": {
            "tags": [],
            "needs_background": "light"
          }
        },
        {
          "output_type": "stream",
          "text": [
            "Train accuracy: 0.945205\n",
            "Test accuracy: 0.977778\n"
          ],
          "name": "stdout"
        }
      ]
    },
    {
      "cell_type": "markdown",
      "metadata": {
        "id": "1Ta1Y9oanR-n"
      },
      "source": [
        "---\n",
        "## Model Selection"
      ]
    },
    {
      "cell_type": "markdown",
      "metadata": {
        "id": "Wfe-EchqnR-n"
      },
      "source": [
        "### Holdout Method\n",
        "\n",
        "<img src=\"https://raw.githubusercontent.com/sanglee/BDS_WS/master/img/06_02.png?raw=true\" width=500>"
      ]
    },
    {
      "cell_type": "markdown",
      "metadata": {
        "id": "Xr5VQNeZnR-n"
      },
      "source": [
        "### K-Fold Cross Validation (K-Fold CV)"
      ]
    },
    {
      "cell_type": "markdown",
      "metadata": {
        "id": "Dh4HyyT2nR-n"
      },
      "source": [
        "<img src=\"https://raw.githubusercontent.com/sanglee/BDS_WS/master/img/06_03.png?raw=true\" width=650>"
      ]
    },
    {
      "cell_type": "code",
      "metadata": {
        "id": "eX2EZExJnR-n",
        "outputId": "72e0304d-e69a-422f-95f8-8bea1fc7a12a"
      },
      "source": [
        "#\n",
        "# Wisconsin Breast-Cancer Data Set\n",
        "#\n",
        "df = pd.read_csv('https://archive.ics.uci.edu/ml/machine-learning-databases'\n",
        "                     '/breast-cancer-wisconsin/wdbc.data', header=None)\n",
        "df.head()"
      ],
      "execution_count": null,
      "outputs": [
        {
          "output_type": "execute_result",
          "data": {
            "text/html": [
              "<div>\n",
              "<style scoped>\n",
              "    .dataframe tbody tr th:only-of-type {\n",
              "        vertical-align: middle;\n",
              "    }\n",
              "\n",
              "    .dataframe tbody tr th {\n",
              "        vertical-align: top;\n",
              "    }\n",
              "\n",
              "    .dataframe thead th {\n",
              "        text-align: right;\n",
              "    }\n",
              "</style>\n",
              "<table border=\"1\" class=\"dataframe\">\n",
              "  <thead>\n",
              "    <tr style=\"text-align: right;\">\n",
              "      <th></th>\n",
              "      <th>0</th>\n",
              "      <th>1</th>\n",
              "      <th>2</th>\n",
              "      <th>3</th>\n",
              "      <th>4</th>\n",
              "      <th>5</th>\n",
              "      <th>6</th>\n",
              "      <th>7</th>\n",
              "      <th>8</th>\n",
              "      <th>9</th>\n",
              "      <th>...</th>\n",
              "      <th>22</th>\n",
              "      <th>23</th>\n",
              "      <th>24</th>\n",
              "      <th>25</th>\n",
              "      <th>26</th>\n",
              "      <th>27</th>\n",
              "      <th>28</th>\n",
              "      <th>29</th>\n",
              "      <th>30</th>\n",
              "      <th>31</th>\n",
              "    </tr>\n",
              "  </thead>\n",
              "  <tbody>\n",
              "    <tr>\n",
              "      <th>0</th>\n",
              "      <td>842302</td>\n",
              "      <td>M</td>\n",
              "      <td>17.99</td>\n",
              "      <td>10.38</td>\n",
              "      <td>122.80</td>\n",
              "      <td>1001.0</td>\n",
              "      <td>0.11840</td>\n",
              "      <td>0.27760</td>\n",
              "      <td>0.3001</td>\n",
              "      <td>0.14710</td>\n",
              "      <td>...</td>\n",
              "      <td>25.38</td>\n",
              "      <td>17.33</td>\n",
              "      <td>184.60</td>\n",
              "      <td>2019.0</td>\n",
              "      <td>0.1622</td>\n",
              "      <td>0.6656</td>\n",
              "      <td>0.7119</td>\n",
              "      <td>0.2654</td>\n",
              "      <td>0.4601</td>\n",
              "      <td>0.11890</td>\n",
              "    </tr>\n",
              "    <tr>\n",
              "      <th>1</th>\n",
              "      <td>842517</td>\n",
              "      <td>M</td>\n",
              "      <td>20.57</td>\n",
              "      <td>17.77</td>\n",
              "      <td>132.90</td>\n",
              "      <td>1326.0</td>\n",
              "      <td>0.08474</td>\n",
              "      <td>0.07864</td>\n",
              "      <td>0.0869</td>\n",
              "      <td>0.07017</td>\n",
              "      <td>...</td>\n",
              "      <td>24.99</td>\n",
              "      <td>23.41</td>\n",
              "      <td>158.80</td>\n",
              "      <td>1956.0</td>\n",
              "      <td>0.1238</td>\n",
              "      <td>0.1866</td>\n",
              "      <td>0.2416</td>\n",
              "      <td>0.1860</td>\n",
              "      <td>0.2750</td>\n",
              "      <td>0.08902</td>\n",
              "    </tr>\n",
              "    <tr>\n",
              "      <th>2</th>\n",
              "      <td>84300903</td>\n",
              "      <td>M</td>\n",
              "      <td>19.69</td>\n",
              "      <td>21.25</td>\n",
              "      <td>130.00</td>\n",
              "      <td>1203.0</td>\n",
              "      <td>0.10960</td>\n",
              "      <td>0.15990</td>\n",
              "      <td>0.1974</td>\n",
              "      <td>0.12790</td>\n",
              "      <td>...</td>\n",
              "      <td>23.57</td>\n",
              "      <td>25.53</td>\n",
              "      <td>152.50</td>\n",
              "      <td>1709.0</td>\n",
              "      <td>0.1444</td>\n",
              "      <td>0.4245</td>\n",
              "      <td>0.4504</td>\n",
              "      <td>0.2430</td>\n",
              "      <td>0.3613</td>\n",
              "      <td>0.08758</td>\n",
              "    </tr>\n",
              "    <tr>\n",
              "      <th>3</th>\n",
              "      <td>84348301</td>\n",
              "      <td>M</td>\n",
              "      <td>11.42</td>\n",
              "      <td>20.38</td>\n",
              "      <td>77.58</td>\n",
              "      <td>386.1</td>\n",
              "      <td>0.14250</td>\n",
              "      <td>0.28390</td>\n",
              "      <td>0.2414</td>\n",
              "      <td>0.10520</td>\n",
              "      <td>...</td>\n",
              "      <td>14.91</td>\n",
              "      <td>26.50</td>\n",
              "      <td>98.87</td>\n",
              "      <td>567.7</td>\n",
              "      <td>0.2098</td>\n",
              "      <td>0.8663</td>\n",
              "      <td>0.6869</td>\n",
              "      <td>0.2575</td>\n",
              "      <td>0.6638</td>\n",
              "      <td>0.17300</td>\n",
              "    </tr>\n",
              "    <tr>\n",
              "      <th>4</th>\n",
              "      <td>84358402</td>\n",
              "      <td>M</td>\n",
              "      <td>20.29</td>\n",
              "      <td>14.34</td>\n",
              "      <td>135.10</td>\n",
              "      <td>1297.0</td>\n",
              "      <td>0.10030</td>\n",
              "      <td>0.13280</td>\n",
              "      <td>0.1980</td>\n",
              "      <td>0.10430</td>\n",
              "      <td>...</td>\n",
              "      <td>22.54</td>\n",
              "      <td>16.67</td>\n",
              "      <td>152.20</td>\n",
              "      <td>1575.0</td>\n",
              "      <td>0.1374</td>\n",
              "      <td>0.2050</td>\n",
              "      <td>0.4000</td>\n",
              "      <td>0.1625</td>\n",
              "      <td>0.2364</td>\n",
              "      <td>0.07678</td>\n",
              "    </tr>\n",
              "  </tbody>\n",
              "</table>\n",
              "<p>5 rows × 32 columns</p>\n",
              "</div>"
            ],
            "text/plain": [
              "         0  1      2      3       4       5        6        7       8   \\\n",
              "0    842302  M  17.99  10.38  122.80  1001.0  0.11840  0.27760  0.3001   \n",
              "1    842517  M  20.57  17.77  132.90  1326.0  0.08474  0.07864  0.0869   \n",
              "2  84300903  M  19.69  21.25  130.00  1203.0  0.10960  0.15990  0.1974   \n",
              "3  84348301  M  11.42  20.38   77.58   386.1  0.14250  0.28390  0.2414   \n",
              "4  84358402  M  20.29  14.34  135.10  1297.0  0.10030  0.13280  0.1980   \n",
              "\n",
              "        9   ...     22     23      24      25      26      27      28      29  \\\n",
              "0  0.14710  ...  25.38  17.33  184.60  2019.0  0.1622  0.6656  0.7119  0.2654   \n",
              "1  0.07017  ...  24.99  23.41  158.80  1956.0  0.1238  0.1866  0.2416  0.1860   \n",
              "2  0.12790  ...  23.57  25.53  152.50  1709.0  0.1444  0.4245  0.4504  0.2430   \n",
              "3  0.10520  ...  14.91  26.50   98.87   567.7  0.2098  0.8663  0.6869  0.2575   \n",
              "4  0.10430  ...  22.54  16.67  152.20  1575.0  0.1374  0.2050  0.4000  0.1625   \n",
              "\n",
              "       30       31  \n",
              "0  0.4601  0.11890  \n",
              "1  0.2750  0.08902  \n",
              "2  0.3613  0.08758  \n",
              "3  0.6638  0.17300  \n",
              "4  0.2364  0.07678  \n",
              "\n",
              "[5 rows x 32 columns]"
            ]
          },
          "metadata": {
            "tags": []
          },
          "execution_count": 10
        }
      ]
    },
    {
      "cell_type": "code",
      "metadata": {
        "id": "CFSN_XxgnR-o"
      },
      "source": [
        "#\n",
        "# Preprocessing & splitting\n",
        "#\n",
        "from sklearn.preprocessing import LabelEncoder\n",
        "\n",
        "X = df.loc[:, 2:].values\n",
        "y = df.loc[:, 1].values\n",
        "le = LabelEncoder()\n",
        "y = le.fit_transform(y)\n",
        "le.transform(['M', 'B'])   # M=malignant, B=benign\n",
        "\n",
        "from sklearn.model_selection import train_test_split\n",
        "\n",
        "X_train, X_test, y_train, y_test = \\\n",
        "    train_test_split(X, y, test_size=0.20, random_state=1)"
      ],
      "execution_count": null,
      "outputs": []
    },
    {
      "cell_type": "markdown",
      "metadata": {
        "id": "Bkhb-KTznR-o"
      },
      "source": [
        "### K-Fold CV"
      ]
    },
    {
      "cell_type": "code",
      "metadata": {
        "id": "I4x0iYlTnR-o",
        "outputId": "33f0c27f-c30c-447c-a733-09dbeeddeeec"
      },
      "source": [
        "from sklearn.model_selection import cross_val_score\n",
        "from sklearn.linear_model import LogisticRegression\n",
        "\n",
        "C_grid = [0.1, 1, 10]\n",
        "cv_err = []\n",
        "\n",
        "for c in C_grid:\n",
        "    scores = cross_val_score(estimator=LogisticRegression(C=c),\n",
        "                             X=X_train,\n",
        "                             y=y_train,\n",
        "                             cv=5,\n",
        "                             scoring='accuracy',\n",
        "                             n_jobs=-1)  # no. cpu cores to use. -1 all cores\n",
        "    print('C = %f' % c)\n",
        "    print('CV accuracy scores:\\n %s' % scores)\n",
        "    print('CV accuracy: %.3f +/- %.3f' % (np.mean(scores), np.std(scores)))\n",
        "    print('--------------------------------------------------------------------')\n",
        "    cv_err.append(np.mean(scores))\n",
        "    \n",
        "best_idx = np.argmax(cv_err)\n",
        "print(best_idx)\n",
        "best_C = C_grid[best_idx]\n",
        "\n",
        "print('Best C due to CV: %f' % best_C)"
      ],
      "execution_count": null,
      "outputs": [
        {
          "output_type": "stream",
          "text": [
            "C = 0.100000\n",
            "CV accuracy scores:\n",
            " [0.87912088 0.87912088 0.95604396 0.96703297 0.95604396]\n",
            "CV accuracy: 0.927 +/- 0.040\n",
            "--------------------------------------------------------------------\n",
            "C = 1.000000\n",
            "CV accuracy scores:\n",
            " [0.91208791 0.92307692 0.97802198 0.96703297 0.95604396]\n",
            "CV accuracy: 0.947 +/- 0.025\n",
            "--------------------------------------------------------------------\n",
            "C = 10.000000\n",
            "CV accuracy scores:\n",
            " [0.87912088 0.92307692 0.97802198 0.97802198 0.95604396]\n",
            "CV accuracy: 0.943 +/- 0.038\n",
            "--------------------------------------------------------------------\n",
            "1\n",
            "Best C due to CV: 1.000000\n"
          ],
          "name": "stdout"
        }
      ]
    },
    {
      "cell_type": "markdown",
      "metadata": {
        "id": "Lvk3HxMHnR-o"
      },
      "source": [
        "---\n",
        "## Performance Evaluation\n",
        "\n",
        "\n",
        "### Confusion Matrix\n",
        "<img src=\"https://raw.githubusercontent.com/sanglee/BDS_WS/master/img/06_08.png?raw=true\" width=300>"
      ]
    },
    {
      "cell_type": "code",
      "metadata": {
        "id": "v58Eeey6nR-o",
        "outputId": "c2737f59-6bdf-4e3e-9c5a-94fafb3de840"
      },
      "source": [
        "from sklearn.metrics import confusion_matrix\n",
        "\n",
        "print('M, B are transformed into: ' + str(le.transform(['M', 'B'])))\n",
        "print('Labels count: (1,0) = (%d, %d)' % (np.sum(y_test==1), np.sum(y_test==0)))\n",
        "print()\n",
        "\n",
        "svm = SVC(gamma=0.0001, C=10)\n",
        "svm.fit(X_train, y_train)\n",
        "y_pred = svm.predict(X_test)\n",
        "#confmat = confusion_matrix(y_true=y_test, y_pred=y_pred)\n",
        "confmat = confusion_matrix(y_true=y_test, y_pred=y_pred, labels=le.transform(['M', 'B']))\n",
        "print('Confusion matrix:\\n', confmat)"
      ],
      "execution_count": null,
      "outputs": [
        {
          "output_type": "stream",
          "text": [
            "M, B are transformed into: [1 0]\n",
            "Labels count: (1,0) = (42, 72)\n",
            "\n",
            "Confusion matrix:\n",
            " [[38  4]\n",
            " [ 1 71]]\n"
          ],
          "name": "stdout"
        }
      ]
    },
    {
      "cell_type": "markdown",
      "metadata": {
        "id": "5YKz8AKrnR-o"
      },
      "source": [
        "**Q. Does the shape of the confusion matrix look correct?**"
      ]
    },
    {
      "cell_type": "markdown",
      "metadata": {
        "id": "2EDl0UGfnR-o"
      },
      "source": [
        "### Prediction Performance Metrics"
      ]
    },
    {
      "cell_type": "markdown",
      "metadata": {
        "id": "KhjTjDsOnR-p"
      },
      "source": [
        "#### Accuracy (ACC):\n",
        "$$\n",
        "   ACC = \\frac{\\text{Correct}}{\\text{ALL}} = \\frac{TP+TN}{ALL} = 1 - ERR\n",
        "$$\n",
        "\n",
        "---\n",
        "\n",
        "#### Sensitivity, Hit rate, or True positive rate (TPR) = Recall (of the positive class)\n",
        "$$\n",
        " TPR = \\frac{TP}{Actual \\; P} = \\frac{TP}{TP+FN}\n",
        "$$\n",
        "#### Specificity, Selectivity or True Negative Rate (TNR) = Recall of the negative class\n",
        "$$\n",
        " TNR = \\frac{TN}{Actual \\; N} = \\frac{TN}{TN+FP} = 1-FPR\n",
        "$$\n",
        "\n",
        "#### False positive rate (FPR):\n",
        "$$\n",
        " FPR = \\frac{FP}{Actual \\; N} = \\frac{FP}{FP+TN} = 1-TNR\n",
        "$$\n",
        "\n",
        "---\n",
        "\n",
        "#### Precision (PRE):\n",
        "$$\n",
        "  PRE = \\frac{TP}{Predicted \\; P} = \\frac{TP}{TP + FP}\n",
        "$$\n",
        "#### Recall (REC)\n",
        "$$\n",
        "  REC = TPR = \\frac{TP}{Actual \\; P} = \\frac{TP}{TP+FN}\n",
        "$$\n",
        "#### False Discovery Rate (FDR)\n",
        "$$\n",
        "  FDR = \\frac{FP}{Predicted \\; P} = \\frac{FP}{TP + FP} = 1 - PRE\n",
        "$$\n",
        "\n",
        "\n",
        "\n",
        "#### F1 score\n",
        "The harmonic mean of precision and recall\n",
        "$$\n",
        "  F1 = 2 \\frac{PRE \\times REC}{PRE + REC}\n",
        "$$"
      ]
    },
    {
      "cell_type": "code",
      "metadata": {
        "id": "GBQoRoUonR-p",
        "outputId": "c2c17eb1-e665-4846-b1d5-6f5ccabe9047"
      },
      "source": [
        "from sklearn.metrics import precision_score, recall_score, f1_score\n",
        "\n",
        "print('Precision: %.3f' % precision_score(y_true=y_test, y_pred=y_pred, pos_label=1))\n",
        "print('Recall of Pos(Sensitivity): %.3f' % recall_score(y_true=y_test, y_pred=y_pred, pos_label=1))\n",
        "print('Recall of Neg(Specificity): %.3f' % recall_score(y_true=y_test, y_pred=y_pred, pos_label=0))\n",
        "print('F1: %.3f' % f1_score(y_true=y_test, y_pred=y_pred))"
      ],
      "execution_count": null,
      "outputs": [
        {
          "output_type": "stream",
          "text": [
            "Precision: 0.974\n",
            "Recall of Pos(Sensitivity): 0.905\n",
            "Recall of Neg(Specificity): 0.986\n",
            "F1: 0.938\n"
          ],
          "name": "stdout"
        }
      ]
    },
    {
      "cell_type": "code",
      "metadata": {
        "id": "U_dZVzujnR-q",
        "outputId": "09e17606-e091-4cd3-9151-57c5ef862579"
      },
      "source": [
        "from sklearn.metrics import classification_report\n",
        "\n",
        "print(le.transform(['M', 'B']))\n",
        "print(classification_report(y_true=y_test, y_pred=y_pred, target_names=['B', 'M']))"
      ],
      "execution_count": null,
      "outputs": [
        {
          "output_type": "stream",
          "text": [
            "[1 0]\n",
            "              precision    recall  f1-score   support\n",
            "\n",
            "           B       0.95      0.99      0.97        72\n",
            "           M       0.97      0.90      0.94        42\n",
            "\n",
            "    accuracy                           0.96       114\n",
            "   macro avg       0.96      0.95      0.95       114\n",
            "weighted avg       0.96      0.96      0.96       114\n",
            "\n"
          ],
          "name": "stdout"
        }
      ]
    },
    {
      "cell_type": "markdown",
      "metadata": {
        "id": "ADLlbGuZnR-q"
      },
      "source": [
        "---\n",
        "\n",
        "## ROC (Receiver-Operator Characteristic) Curve\n",
        "### AUC: Area Under the ROC Curve"
      ]
    },
    {
      "cell_type": "code",
      "metadata": {
        "id": "v22s_wrznR-q",
        "outputId": "6f3fe976-60c7-4563-c377-2c76e47ddd07"
      },
      "source": [
        "from sklearn.metrics import roc_curve, auc\n",
        "from scipy import interp\n",
        "\n",
        "lr = LogisticRegression(solver='liblinear', C=100)\n",
        "probas = lr.fit(X_train, y_train).predict_proba(X_train)\n",
        "\n",
        "fpr, tpr, thresholds = roc_curve(y_train, probas[:, 1], pos_label=1)\n",
        "\n",
        "roc_auc = auc(fpr, tpr)\n",
        "\n",
        "plt.plot(fpr,tpr,\n",
        "             lw=1,\n",
        "             label='area = %0.2e' % (roc_auc))\n",
        "\n",
        "plt.plot([0, 1],\n",
        "         [0, 1],\n",
        "         linestyle='--',\n",
        "         color=(0.6, 0.6, 0.6),\n",
        "         label='random guessing')\n",
        "\n",
        "plt.plot([0, 0, 1],\n",
        "         [0, 1, 1],\n",
        "         lw=2,\n",
        "         linestyle=':',\n",
        "         color='black',\n",
        "         label='perfect performance')\n",
        "\n",
        "plt.xlim([-0.05, 1.05])\n",
        "plt.ylim([-0.05, 1.05])\n",
        "plt.xlabel('false positive rate')\n",
        "plt.ylabel('true positive rate')\n",
        "plt.title('Receiver Operator Characteristic')\n",
        "plt.legend(loc=\"lower right\")\n",
        "\n",
        "plt.tight_layout()\n",
        "# plt.savefig('./figures/roc.png', dpi=300)\n",
        "plt.show()"
      ],
      "execution_count": null,
      "outputs": [
        {
          "output_type": "display_data",
          "data": {
            "image/png": "[encoded data removed]",
            "text/plain": [
              "<Figure size 432x288 with 1 Axes>"
            ]
          },
          "metadata": {
            "tags": [],
            "needs_background": "light"
          }
        }
      ]
    },
    {
      "cell_type": "markdown",
      "metadata": {
        "id": "D7fJ4br8nR-q"
      },
      "source": [
        "---\n",
        "## Summary"
      ]
    },
    {
      "cell_type": "markdown",
      "metadata": {
        "id": "KbJXvv6XnR-q"
      },
      "source": [
        "__Supervised Learning: Classification__\n",
        "\n",
        "\n",
        "__SVM__\n",
        "- Maximal margin linear classifier\n",
        "- Can be applied to not linearly separable problems, using kernels\n",
        "  - Linear kernel\n",
        "  - Gaussian RBF kernel (hyperparameter: $\\gamma$)\n",
        "  - Kernels can be defined on more general objects: DNA sequences, chemical compounds, etc.\n",
        "- Hardly overfit: good for practical use\n",
        "\n",
        "__Model Selection__\n",
        "- Holdout method\n",
        "- K-Fold CV\n",
        "  - CV on training data: for model selection, tuning hyperparameters\n",
        "  - Double CV is possible:\n",
        "      - External CV: estimate test error\n",
        "      - Internal CV: model selection\n",
        "      - Caveat: eventually we do see all data, and therefore external CV estimate is not a good estimate of the future error compared to the case of using a separate test data. Therefore, it is recommended to clearly state how your estiamtes have been created.\n",
        "\n",
        "__Performance Metrics__\n",
        "- Precision & recall\n",
        "  - Most frequently use in ML\n",
        "  - F1 score: 0~1\n",
        "- ROC\n",
        "  - AUC score: 0~1"
      ]
    },
    {
      "cell_type": "code",
      "metadata": {
        "id": "jJ7AAUR7nR-q"
      },
      "source": [
        ""
      ],
      "execution_count": null,
      "outputs": []
    }
  ]
}