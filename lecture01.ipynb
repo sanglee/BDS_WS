{
  "nbformat": 4,
  "nbformat_minor": 0,
  "metadata": {
    "kernelspec": {
      "display_name": "Python 3",
      "language": "python",
      "name": "python3"
    },
    "language_info": {
      "codemirror_mode": {
        "name": "ipython",
        "version": 3
      },
      "file_extension": ".py",
      "mimetype": "text/x-python",
      "name": "python",
      "nbconvert_exporter": "python",
      "pygments_lexer": "ipython3",
      "version": "3.6.8"
    },
    "toc": {
      "base_numbering": 1,
      "nav_menu": {
        "height": "138px",
        "width": "252px"
      },
      "number_sections": false,
      "sideBar": true,
      "skip_h1_title": false,
      "title_cell": "Table of Contents",
      "title_sidebar": "Contents",
      "toc_cell": false,
      "toc_position": {},
      "toc_section_display": "block",
      "toc_window_display": true
    },
    "varInspector": {
      "cols": {
        "lenName": 16,
        "lenType": 16,
        "lenVar": 40
      },
      "kernels_config": {
        "python": {
          "delete_cmd_postfix": "",
          "delete_cmd_prefix": "del ",
          "library": "var_list.py",
          "varRefreshCmd": "print(var_dic_list())"
        },
        "r": {
          "delete_cmd_postfix": ") ",
          "delete_cmd_prefix": "rm(",
          "library": "var_list.r",
          "varRefreshCmd": "cat(var_dic_list()) "
        }
      },
      "types_to_exclude": [
        "module",
        "function",
        "builtin_function_or_method",
        "instance",
        "_Feature"
      ],
      "window_display": false
    },
    "colab": {
      "name": "lecture01.ipynb",
      "provenance": [],
      "include_colab_link": true
    }
  },
  "cells": [
    {
      "cell_type": "markdown",
      "metadata": {
        "id": "view-in-github",
        "colab_type": "text"
      },
      "source": [
        "<a href=\"https://colab.research.google.com/github/sanglee/BDS_WS/blob/main/lecture01.ipynb\" target=\"_parent\"><img src=\"https://colab.research.google.com/assets/colab-badge.svg\" alt=\"Open In Colab\"/></a>"
      ]
    },
    {
      "cell_type": "markdown",
      "metadata": {
        "id": "2EXL8oqji9k_"
      },
      "source": [
        "## Biomedical Data Science Winter School\n",
        "\n",
        "@author: Sangkyun Lee  (sangkyun@korea.ac.kr)\n",
        "\n",
        "___ML I: Introduction to ML___"
      ]
    },
    {
      "cell_type": "markdown",
      "metadata": {
        "id": "0Y_plU_Vi9lE"
      },
      "source": [
        "---"
      ]
    },
    {
      "cell_type": "markdown",
      "metadata": {
        "id": "3653nrfKi9lF"
      },
      "source": [
        "## What is Machine Learning?\n",
        "\n",
        "- The study of computer algorithms that improve automatically through experience\n",
        "- \"A computer program is said to learn from **experience E** w.r.t. some class of **tasks T** and **performance measure P**, if its performance at tasks in T, as measured by P, improves with experience E.” (Tom Mitchell '97)\n",
        "- A subfield of AI\n",
        "\n",
        "---\n",
        "\n",
        "## Constructs of ML\n",
        "\n",
        "- Data\n",
        "- Model\n",
        "- Performance measure"
      ]
    },
    {
      "cell_type": "markdown",
      "metadata": {
        "id": "J8N7hG4oi9lF"
      },
      "source": [
        "### 1. Data\n",
        "\n",
        "- In ML, we think there is an (unknown) probability distribution of data, say $P_D$\n",
        "- The data $D$ we have is **sampled** from $P_D$\n",
        "\n",
        "We usually split our data into three parts:\n",
        "\n",
        "- __Training data__: the data we use for training an ML model\n",
        "- __Validation data__: for tuning **hyper-parameters**\n",
        "- __Test data__: for evaluating the peformance of a trained model (a surrogate of the future data)\n",
        "\n",
        "### 2. Model\n",
        "\n",
        "- A model $h$ is our tool to explain a connection between input and output variables\n",
        "  - Input variables $X$: age, gender, gene expression, ...\n",
        "  - Output variables $Y$: high/low risk having a cancer\n",
        "- We assume that there exists a true mechanism $M$: $Y = M(X)$ for all possible $(X,Y) \\sim P_D$\n",
        "- Our model $h(X)$ is indeed a hypothesis by which we try to find $M$\n",
        "  - We use $D$ to find the best model such that $Y=h(X)$ for all $(X,Y) \\in D$\n",
        "  - This process is called **estimation** in statistics\n",
        "  \n",
        "### 3. Performance\n",
        "\n",
        "- Training accuracy: the performance of the trained model $h$ on the training data\n",
        "- Testing accuracy: on the test data\n",
        "- Generalization accuracy: on all possible data $\\sim P_D$"
      ]
    },
    {
      "cell_type": "markdown",
      "metadata": {
        "id": "X7-P0hB-i9lF"
      },
      "source": [
        "---\n",
        "## Phases of ML\n",
        "\n",
        "- **Training**: use training & validation data to find the best model $h$\n",
        "- **Testing (inference)**: apply a trained $h$ on test or new data"
      ]
    },
    {
      "cell_type": "markdown",
      "metadata": {
        "id": "qsXhIiEhi9lG"
      },
      "source": [
        "---\n",
        "## Types of ML"
      ]
    },
    {
      "cell_type": "markdown",
      "metadata": {
        "id": "algMlS23i9lH"
      },
      "source": [
        "<img src=\"https://raw.githubusercontent.com/sanglee/BDS_WS/master/img/01_01.png\" width=500>"
      ]
    },
    {
      "cell_type": "markdown",
      "metadata": {
        "id": "eOm-cM55i9lH"
      },
      "source": [
        "---\n",
        "\n",
        "## Supervised Learning\n",
        "\n",
        "- Supervised Learning: learn a model from *labeled training data*, that allows us to make predictions about unseen (future) data points\n",
        "\n",
        "- The term *supervised* refers to the fact that the desired output labels of training samples are already known\n",
        "\n",
        "- Ex. spam email filtering\n",
        "\n",
        "#### Two types:\n",
        "\n",
        "- **Classification**: a supervised learning task with discrete class labels\n",
        "- **Regression**: a supervised learning task where outcome signal is a continuous value"
      ]
    },
    {
      "cell_type": "markdown",
      "metadata": {
        "id": "t-CiMugxi9lH"
      },
      "source": [
        "---\n",
        "## Classification\n",
        "\n",
        "<img src=\"https://raw.githubusercontent.com/sanglee/BDS_WS/master/img/01_03.png\" width=300>"
      ]
    },
    {
      "cell_type": "markdown",
      "metadata": {
        "id": "WEu7IvGsi9lH"
      },
      "source": [
        "Goal: to predict the categorical class labels of new instances based on past observations\n",
        "\n",
        "- Training data $\\{(x_i, y_i)\\}_{i=1}^n$\n",
        "  - $x_i$ : input vector \n",
        "  - $y_i$ : label : discrete, unordered values : can be understood as *group membership* of instances\n",
        "  \n",
        "- Model: $y = h(x)$\n",
        "\n",
        "\n",
        "### Types of classification\n",
        "- Binary classification: distinguish between two possible classes (e.g. spam and non-spam emails)\n",
        "\n",
        "- Multi-class classification: distinguish amongst multiple classes (e.g. handwritten digits from 0 to 9)\n",
        "\n",
        "### Terminology\n",
        "- decision boundary\n",
        "- positive class\n",
        "- negative class"
      ]
    },
    {
      "cell_type": "markdown",
      "metadata": {
        "id": "0G6mFbpTi9lH"
      },
      "source": [
        "---\n",
        "## Regression\n",
        "<img src=\"https://raw.githubusercontent.com/sanglee/BDS_WS/master/img/01_04.png\" width=300>"
      ]
    },
    {
      "cell_type": "markdown",
      "metadata": {
        "id": "2DTVwetGi9lI"
      },
      "source": [
        "Goal: to predict continuous outcome\n",
        "\n",
        "Given:\n",
        "- A number of *predictor* (explanatory) variables (e.g. time spent for studying)\n",
        "- A continuous *response* (outcome) variable (e.g. math SAT score)\n",
        "\n",
        "We try to find a relationship between those variables that allows us to predict the outcome\n"
      ]
    },
    {
      "cell_type": "markdown",
      "metadata": {
        "id": "ksKakgqGi9lI"
      },
      "source": [
        "---\n",
        "## Reinforcement Learning\n",
        "\n",
        "<img src=\"https://raw.githubusercontent.com/sanglee/BDS_WS/master/img/01_05.png\" width=400>\n",
        "\n",
        "Goal: to develop a system (agent) that improves its performance based on iteractions with the *environment*.\n",
        "\n",
        "The environment gives feedback, including a *reward* signal, which is not the correct ground truth labels or value, but a measure how well the action was measured by a *reward* function\n",
        "\n",
        "Ex. a chess engine. The agent decides upon a series of moves depending on the state of the board (the environment), and the reward can be defined as *win* or *lose* at the end of the game.\n"
      ]
    },
    {
      "cell_type": "markdown",
      "metadata": {
        "id": "Wo1yGIa3i9lJ"
      },
      "source": [
        "---\n",
        "\n",
        "### Data Matrix\n",
        "\n",
        "<img src=\"https://raw.githubusercontent.com/sanglee/BDS_WS/master/img/01_08.png\" width=500>"
      ]
    },
    {
      "cell_type": "markdown",
      "metadata": {
        "id": "LxSV13yGi9lJ"
      },
      "source": [
        "- Data matrix: the matrix holding the data (aka a design matrix)\n",
        "  - Rows: instances\n",
        "  - Columns: features\n"
      ]
    },
    {
      "cell_type": "markdown",
      "metadata": {
        "id": "UeF74cRRi9lJ"
      },
      "source": [
        "#### Loading IRIS data"
      ]
    },
    {
      "cell_type": "code",
      "metadata": {
        "id": "fWYqwJ4hi9lJ"
      },
      "source": [
        "import pandas as pd\n",
        "\n",
        "df = pd.read_csv('https://archive.ics.uci.edu/ml/'\n",
        "        'machine-learning-databases/iris/iris.data', names= ['Sepal Length', 'Sepal Width', 'Petal Length', 'Petal Width', 'Label'])"
      ],
      "execution_count": null,
      "outputs": []
    },
    {
      "cell_type": "code",
      "metadata": {
        "id": "EtJjkKmui9lJ",
        "outputId": "4fb421d7-4c6d-40e2-ee1a-0be2c3855821"
      },
      "source": [
        "df.head(n=10)"
      ],
      "execution_count": null,
      "outputs": [
        {
          "output_type": "execute_result",
          "data": {
            "text/html": [
              "<div>\n",
              "<style scoped>\n",
              "    .dataframe tbody tr th:only-of-type {\n",
              "        vertical-align: middle;\n",
              "    }\n",
              "\n",
              "    .dataframe tbody tr th {\n",
              "        vertical-align: top;\n",
              "    }\n",
              "\n",
              "    .dataframe thead th {\n",
              "        text-align: right;\n",
              "    }\n",
              "</style>\n",
              "<table border=\"1\" class=\"dataframe\">\n",
              "  <thead>\n",
              "    <tr style=\"text-align: right;\">\n",
              "      <th></th>\n",
              "      <th>Sepal Length</th>\n",
              "      <th>Sepal Width</th>\n",
              "      <th>Petal Length</th>\n",
              "      <th>Petal Width</th>\n",
              "      <th>Label</th>\n",
              "    </tr>\n",
              "  </thead>\n",
              "  <tbody>\n",
              "    <tr>\n",
              "      <th>0</th>\n",
              "      <td>5.1</td>\n",
              "      <td>3.5</td>\n",
              "      <td>1.4</td>\n",
              "      <td>0.2</td>\n",
              "      <td>Iris-setosa</td>\n",
              "    </tr>\n",
              "    <tr>\n",
              "      <th>1</th>\n",
              "      <td>4.9</td>\n",
              "      <td>3.0</td>\n",
              "      <td>1.4</td>\n",
              "      <td>0.2</td>\n",
              "      <td>Iris-setosa</td>\n",
              "    </tr>\n",
              "    <tr>\n",
              "      <th>2</th>\n",
              "      <td>4.7</td>\n",
              "      <td>3.2</td>\n",
              "      <td>1.3</td>\n",
              "      <td>0.2</td>\n",
              "      <td>Iris-setosa</td>\n",
              "    </tr>\n",
              "    <tr>\n",
              "      <th>3</th>\n",
              "      <td>4.6</td>\n",
              "      <td>3.1</td>\n",
              "      <td>1.5</td>\n",
              "      <td>0.2</td>\n",
              "      <td>Iris-setosa</td>\n",
              "    </tr>\n",
              "    <tr>\n",
              "      <th>4</th>\n",
              "      <td>5.0</td>\n",
              "      <td>3.6</td>\n",
              "      <td>1.4</td>\n",
              "      <td>0.2</td>\n",
              "      <td>Iris-setosa</td>\n",
              "    </tr>\n",
              "    <tr>\n",
              "      <th>5</th>\n",
              "      <td>5.4</td>\n",
              "      <td>3.9</td>\n",
              "      <td>1.7</td>\n",
              "      <td>0.4</td>\n",
              "      <td>Iris-setosa</td>\n",
              "    </tr>\n",
              "    <tr>\n",
              "      <th>6</th>\n",
              "      <td>4.6</td>\n",
              "      <td>3.4</td>\n",
              "      <td>1.4</td>\n",
              "      <td>0.3</td>\n",
              "      <td>Iris-setosa</td>\n",
              "    </tr>\n",
              "    <tr>\n",
              "      <th>7</th>\n",
              "      <td>5.0</td>\n",
              "      <td>3.4</td>\n",
              "      <td>1.5</td>\n",
              "      <td>0.2</td>\n",
              "      <td>Iris-setosa</td>\n",
              "    </tr>\n",
              "    <tr>\n",
              "      <th>8</th>\n",
              "      <td>4.4</td>\n",
              "      <td>2.9</td>\n",
              "      <td>1.4</td>\n",
              "      <td>0.2</td>\n",
              "      <td>Iris-setosa</td>\n",
              "    </tr>\n",
              "    <tr>\n",
              "      <th>9</th>\n",
              "      <td>4.9</td>\n",
              "      <td>3.1</td>\n",
              "      <td>1.5</td>\n",
              "      <td>0.1</td>\n",
              "      <td>Iris-setosa</td>\n",
              "    </tr>\n",
              "  </tbody>\n",
              "</table>\n",
              "</div>"
            ],
            "text/plain": [
              "   Sepal Length  Sepal Width  Petal Length  Petal Width        Label\n",
              "0           5.1          3.5           1.4          0.2  Iris-setosa\n",
              "1           4.9          3.0           1.4          0.2  Iris-setosa\n",
              "2           4.7          3.2           1.3          0.2  Iris-setosa\n",
              "3           4.6          3.1           1.5          0.2  Iris-setosa\n",
              "4           5.0          3.6           1.4          0.2  Iris-setosa\n",
              "5           5.4          3.9           1.7          0.4  Iris-setosa\n",
              "6           4.6          3.4           1.4          0.3  Iris-setosa\n",
              "7           5.0          3.4           1.5          0.2  Iris-setosa\n",
              "8           4.4          2.9           1.4          0.2  Iris-setosa\n",
              "9           4.9          3.1           1.5          0.1  Iris-setosa"
            ]
          },
          "metadata": {
            "tags": []
          },
          "execution_count": 2
        }
      ]
    },
    {
      "cell_type": "code",
      "metadata": {
        "id": "28hWujL4i9lL",
        "outputId": "bf1600bf-dc1d-4058-bc7e-7a5e94fcb4b2"
      },
      "source": [
        "df['Label'].unique()"
      ],
      "execution_count": null,
      "outputs": [
        {
          "output_type": "execute_result",
          "data": {
            "text/plain": [
              "array(['Iris-setosa', 'Iris-versicolor', 'Iris-virginica'], dtype=object)"
            ]
          },
          "metadata": {
            "tags": []
          },
          "execution_count": 3
        }
      ]
    },
    {
      "cell_type": "code",
      "metadata": {
        "id": "H6Bi-W3Hi9lL",
        "outputId": "24c9c182-5fd5-4fe3-ffaf-e40e58a791f8"
      },
      "source": [
        "# Prepare data matrix and labels\n",
        "\n",
        "import numpy as np\n",
        "\n",
        "y = df.iloc[:, 4].values # numpy array\n",
        "print(y[0:10])\n",
        "print(type(y))\n",
        "\n",
        "#y = np.where(y == 'Iris-setosa')\n",
        "y = np.where(y == 'Iris-setosa', -1, 1)\n",
        "print(y)\n",
        "\n",
        "X = df.iloc[:, [0, 2]].values\n",
        "print(X)\n",
        "\n",
        "X: 150x2 \n",
        "y: 150 -1, +1"
      ],
      "execution_count": null,
      "outputs": [
        {
          "output_type": "stream",
          "text": [
            "['Iris-setosa' 'Iris-setosa' 'Iris-setosa' 'Iris-setosa' 'Iris-setosa'\n",
            " 'Iris-setosa' 'Iris-setosa' 'Iris-setosa' 'Iris-setosa' 'Iris-setosa']\n",
            "<class 'numpy.ndarray'>\n",
            "[-1 -1 -1 -1 -1 -1 -1 -1 -1 -1 -1 -1 -1 -1 -1 -1 -1 -1 -1 -1 -1 -1 -1 -1\n",
            " -1 -1 -1 -1 -1 -1 -1 -1 -1 -1 -1 -1 -1 -1 -1 -1 -1 -1 -1 -1 -1 -1 -1 -1\n",
            " -1 -1  1  1  1  1  1  1  1  1  1  1  1  1  1  1  1  1  1  1  1  1  1  1\n",
            "  1  1  1  1  1  1  1  1  1  1  1  1  1  1  1  1  1  1  1  1  1  1  1  1\n",
            "  1  1  1  1  1  1  1  1  1  1  1  1  1  1  1  1  1  1  1  1  1  1  1  1\n",
            "  1  1  1  1  1  1  1  1  1  1  1  1  1  1  1  1  1  1  1  1  1  1  1  1\n",
            "  1  1  1  1  1  1]\n",
            "[[5.1 1.4]\n",
            " [4.9 1.4]\n",
            " [4.7 1.3]\n",
            " [4.6 1.5]\n",
            " [5.  1.4]\n",
            " [5.4 1.7]\n",
            " [4.6 1.4]\n",
            " [5.  1.5]\n",
            " [4.4 1.4]\n",
            " [4.9 1.5]\n",
            " [5.4 1.5]\n",
            " [4.8 1.6]\n",
            " [4.8 1.4]\n",
            " [4.3 1.1]\n",
            " [5.8 1.2]\n",
            " [5.7 1.5]\n",
            " [5.4 1.3]\n",
            " [5.1 1.4]\n",
            " [5.7 1.7]\n",
            " [5.1 1.5]\n",
            " [5.4 1.7]\n",
            " [5.1 1.5]\n",
            " [4.6 1. ]\n",
            " [5.1 1.7]\n",
            " [4.8 1.9]\n",
            " [5.  1.6]\n",
            " [5.  1.6]\n",
            " [5.2 1.5]\n",
            " [5.2 1.4]\n",
            " [4.7 1.6]\n",
            " [4.8 1.6]\n",
            " [5.4 1.5]\n",
            " [5.2 1.5]\n",
            " [5.5 1.4]\n",
            " [4.9 1.5]\n",
            " [5.  1.2]\n",
            " [5.5 1.3]\n",
            " [4.9 1.5]\n",
            " [4.4 1.3]\n",
            " [5.1 1.5]\n",
            " [5.  1.3]\n",
            " [4.5 1.3]\n",
            " [4.4 1.3]\n",
            " [5.  1.6]\n",
            " [5.1 1.9]\n",
            " [4.8 1.4]\n",
            " [5.1 1.6]\n",
            " [4.6 1.4]\n",
            " [5.3 1.5]\n",
            " [5.  1.4]\n",
            " [7.  4.7]\n",
            " [6.4 4.5]\n",
            " [6.9 4.9]\n",
            " [5.5 4. ]\n",
            " [6.5 4.6]\n",
            " [5.7 4.5]\n",
            " [6.3 4.7]\n",
            " [4.9 3.3]\n",
            " [6.6 4.6]\n",
            " [5.2 3.9]\n",
            " [5.  3.5]\n",
            " [5.9 4.2]\n",
            " [6.  4. ]\n",
            " [6.1 4.7]\n",
            " [5.6 3.6]\n",
            " [6.7 4.4]\n",
            " [5.6 4.5]\n",
            " [5.8 4.1]\n",
            " [6.2 4.5]\n",
            " [5.6 3.9]\n",
            " [5.9 4.8]\n",
            " [6.1 4. ]\n",
            " [6.3 4.9]\n",
            " [6.1 4.7]\n",
            " [6.4 4.3]\n",
            " [6.6 4.4]\n",
            " [6.8 4.8]\n",
            " [6.7 5. ]\n",
            " [6.  4.5]\n",
            " [5.7 3.5]\n",
            " [5.5 3.8]\n",
            " [5.5 3.7]\n",
            " [5.8 3.9]\n",
            " [6.  5.1]\n",
            " [5.4 4.5]\n",
            " [6.  4.5]\n",
            " [6.7 4.7]\n",
            " [6.3 4.4]\n",
            " [5.6 4.1]\n",
            " [5.5 4. ]\n",
            " [5.5 4.4]\n",
            " [6.1 4.6]\n",
            " [5.8 4. ]\n",
            " [5.  3.3]\n",
            " [5.6 4.2]\n",
            " [5.7 4.2]\n",
            " [5.7 4.2]\n",
            " [6.2 4.3]\n",
            " [5.1 3. ]\n",
            " [5.7 4.1]\n",
            " [6.3 6. ]\n",
            " [5.8 5.1]\n",
            " [7.1 5.9]\n",
            " [6.3 5.6]\n",
            " [6.5 5.8]\n",
            " [7.6 6.6]\n",
            " [4.9 4.5]\n",
            " [7.3 6.3]\n",
            " [6.7 5.8]\n",
            " [7.2 6.1]\n",
            " [6.5 5.1]\n",
            " [6.4 5.3]\n",
            " [6.8 5.5]\n",
            " [5.7 5. ]\n",
            " [5.8 5.1]\n",
            " [6.4 5.3]\n",
            " [6.5 5.5]\n",
            " [7.7 6.7]\n",
            " [7.7 6.9]\n",
            " [6.  5. ]\n",
            " [6.9 5.7]\n",
            " [5.6 4.9]\n",
            " [7.7 6.7]\n",
            " [6.3 4.9]\n",
            " [6.7 5.7]\n",
            " [7.2 6. ]\n",
            " [6.2 4.8]\n",
            " [6.1 4.9]\n",
            " [6.4 5.6]\n",
            " [7.2 5.8]\n",
            " [7.4 6.1]\n",
            " [7.9 6.4]\n",
            " [6.4 5.6]\n",
            " [6.3 5.1]\n",
            " [6.1 5.6]\n",
            " [7.7 6.1]\n",
            " [6.3 5.6]\n",
            " [6.4 5.5]\n",
            " [6.  4.8]\n",
            " [6.9 5.4]\n",
            " [6.7 5.6]\n",
            " [6.9 5.1]\n",
            " [5.8 5.1]\n",
            " [6.8 5.9]\n",
            " [6.7 5.7]\n",
            " [6.7 5.2]\n",
            " [6.3 5. ]\n",
            " [6.5 5.2]\n",
            " [6.2 5.4]\n",
            " [5.9 5.1]]\n"
          ],
          "name": "stdout"
        }
      ]
    },
    {
      "cell_type": "code",
      "metadata": {
        "id": "Q6wv4jlti9lL",
        "outputId": "042902d4-13d3-47e3-fb34-d8a4d90d7aa0"
      },
      "source": [
        "%matplotlib inline\n",
        "\n",
        "import matplotlib.pyplot as plt\n",
        "\n",
        "# plot data\n",
        "plt.scatter(X[:50, 0], X[:50, 1],\n",
        "            color='red', marker='o', label='setosa')\n",
        "plt.scatter(X[50:100, 0], X[50:100, 1],\n",
        "            color='blue', marker='x', label='versicolor')\n",
        "plt.scatter(X[100:150, 0], X[100:150, 1],\n",
        "            color='orange', marker='.', label='virginica')\n",
        "\n",
        "\n",
        "plt.xlabel('sepal length [cm]')\n",
        "plt.ylabel('petal length [cm]')\n",
        "plt.legend(loc='upper left')\n",
        "\n",
        "plt.show()"
      ],
      "execution_count": null,
      "outputs": [
        {
          "output_type": "display_data",
          "data": {
            "image/png": "[encoded data removed]",
            "text/plain": [
              "<Figure size 432x288 with 1 Axes>"
            ]
          },
          "metadata": {
            "tags": [],
            "needs_background": "light"
          }
        }
      ]
    },
    {
      "cell_type": "markdown",
      "metadata": {
        "id": "OdiVthSUi9lM"
      },
      "source": [
        "### Split data"
      ]
    },
    {
      "cell_type": "code",
      "metadata": {
        "id": "dKNFi91mi9lM"
      },
      "source": [
        "# Scikit-learn: ML package in Python\n",
        "from sklearn.model_selection import train_test_split\n",
        "\n",
        "# Split into train & test sets\n",
        "X_train, X_test, y_train, y_test = train_test_split(X, y, test_size=0.3, random_state=0)"
      ],
      "execution_count": null,
      "outputs": []
    },
    {
      "cell_type": "code",
      "metadata": {
        "id": "MbmBoLJSi9lM"
      },
      "source": [
        "# Split into train & validation sets\n",
        "X_train, X_val, y_train, y_val = train_test_split(X_train, y_train, test_size=0.3, random_state=0)"
      ],
      "execution_count": null,
      "outputs": []
    },
    {
      "cell_type": "code",
      "metadata": {
        "id": "hu4I-3ASi9lM",
        "outputId": "3be947f0-b5d5-441f-dcbe-83d67ce171dc"
      },
      "source": [
        "print(X_train.shape)\n",
        "print(X_val.shape)\n",
        "print(X_test.shape)"
      ],
      "execution_count": null,
      "outputs": [
        {
          "output_type": "stream",
          "text": [
            "(73, 2)\n",
            "(32, 2)\n",
            "(45, 2)\n"
          ],
          "name": "stdout"
        }
      ]
    },
    {
      "cell_type": "markdown",
      "metadata": {
        "id": "aYLLfXYxi9lN"
      },
      "source": [
        "- When the sample size is small, this type of split can make each split too small\n",
        "- Use cross validation instead (to be discussed later)"
      ]
    },
    {
      "cell_type": "markdown",
      "metadata": {
        "id": "XPCrJ6QHi9lN"
      },
      "source": [
        "---\n",
        "## ML Roadmap\n",
        "<img src=\"https://raw.githubusercontent.com/sanglee/BDS_WS/master/img/01_09.png\" width=700>"
      ]
    },
    {
      "cell_type": "markdown",
      "metadata": {
        "id": "nMWiaUFIi9lN"
      },
      "source": [
        "### No free lunch theorem (David Wolpert, 1996)\n",
        "\n",
        "- An ML algorithm is designed to perform well on certain tasks, which requires certain assumptions\n",
        "\n",
        "- There is no such an universal ML algorithm that performs well on all of the tasks.\n",
        "\n",
        "- No single classification model nejoys superiority if we don't make any assumptions about the task.\n",
        "\n",
        "Therefore, it is essential to compare a handful of different algorithms in order to find the best performning model.\n",
        "\n",
        "- We need a *metric* to measure and compare performance of different models, e.g. prediction accuracy"
      ]
    },
    {
      "cell_type": "markdown",
      "metadata": {
        "id": "z_7f072Ci9lN"
      },
      "source": [
        "## Summary"
      ]
    },
    {
      "cell_type": "markdown",
      "metadata": {
        "id": "rfkS29mzi9lN"
      },
      "source": [
        "__ML__\n",
        "- Data\n",
        " - Training, test, & validation sets\n",
        "- Model\n",
        " - Our hypothesis to explain $x \\to y$\n",
        " - Ex. K-NN, Logistic regression, Naive Bayes, SVM, DNN, ...\n",
        "- Performance measure\n",
        " - Training, test, & generalization performance\n",
        "\n",
        "__Types of ML__\n",
        "- Supervised Learning: (X,Y) is given\n",
        " - Classification\n",
        "   - Binary classification\n",
        "   - Multi-class classification\n",
        " - Regression\n",
        "- Unsupervised learning: only X is given\n",
        "- Reinforcement learning\n",
        "\n",
        "__Data Matrix__\n",
        "- Row: samples, instances, observations, records, ...\n",
        "- Columns: features, dimensions, attributes, measurements, ...\n",
        "\n",
        "__Train/Test Split__\n",
        "- Scikit-learn (sklearn package)\n",
        "- sklearn.model_selection.train_test_split"
      ]
    },
    {
      "cell_type": "code",
      "metadata": {
        "id": "wNIVKorMi9lN"
      },
      "source": [
        ""
      ],
      "execution_count": null,
      "outputs": []
    }
  ]
}