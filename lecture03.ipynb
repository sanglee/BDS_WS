{
  "nbformat": 4,
  "nbformat_minor": 0,
  "metadata": {
    "kernelspec": {
      "display_name": "Python 3",
      "language": "python",
      "name": "python3"
    },
    "language_info": {
      "codemirror_mode": {
        "name": "ipython",
        "version": 3
      },
      "file_extension": ".py",
      "mimetype": "text/x-python",
      "name": "python",
      "nbconvert_exporter": "python",
      "pygments_lexer": "ipython3",
      "version": "3.8.5"
    },
    "toc": {
      "base_numbering": 1,
      "nav_menu": {
        "height": "138px",
        "width": "252px"
      },
      "number_sections": false,
      "sideBar": true,
      "skip_h1_title": false,
      "title_cell": "Table of Contents",
      "title_sidebar": "Contents",
      "toc_cell": false,
      "toc_position": {},
      "toc_section_display": "block",
      "toc_window_display": true
    },
    "varInspector": {
      "cols": {
        "lenName": 16,
        "lenType": 16,
        "lenVar": 40
      },
      "kernels_config": {
        "python": {
          "delete_cmd_postfix": "",
          "delete_cmd_prefix": "del ",
          "library": "var_list.py",
          "varRefreshCmd": "print(var_dic_list())"
        },
        "r": {
          "delete_cmd_postfix": ") ",
          "delete_cmd_prefix": "rm(",
          "library": "var_list.r",
          "varRefreshCmd": "cat(var_dic_list()) "
        }
      },
      "types_to_exclude": [
        "module",
        "function",
        "builtin_function_or_method",
        "instance",
        "_Feature"
      ],
      "window_display": false
    },
    "colab": {
      "name": "lecture03.ipynb",
      "provenance": [],
      "include_colab_link": true
    }
  },
  "cells": [
    {
      "cell_type": "markdown",
      "metadata": {
        "id": "view-in-github",
        "colab_type": "text"
      },
      "source": [
        "<a href=\"https://colab.research.google.com/github/sanglee/BDS_WS/blob/main/lecture03.ipynb\" target=\"_parent\"><img src=\"https://colab.research.google.com/assets/colab-badge.svg\" alt=\"Open In Colab\"/></a>"
      ]
    },
    {
      "cell_type": "markdown",
      "metadata": {
        "id": "N9-MsH_7nIr4"
      },
      "source": [
        "## Biomedical Data Science Winter School\n",
        "\n",
        "@author: Sangkyun Lee  (sangkyun@korea.ac.kr)\n",
        "\n",
        "___ML III: Random Forest & Logistic Regression___"
      ]
    },
    {
      "cell_type": "markdown",
      "metadata": {
        "id": "z-zDrBCmnIr8"
      },
      "source": [
        "---"
      ]
    },
    {
      "cell_type": "code",
      "metadata": {
        "id": "kBJOgJrSnIr8"
      },
      "source": [
        "# A utility function to plot decision boundaries in 2D\n",
        "\n",
        "from matplotlib.colors import ListedColormap\n",
        "\n",
        "\n",
        "def plot_decision_regions(X, y, classifier, test_idx=None, resolution=0.02):\n",
        "\n",
        "    # setup marker generator and color map\n",
        "    markers = ('s', 'x', 'o', '^', 'v')\n",
        "    colors = ('red', 'blue', 'lightgreen', 'gray', 'cyan')\n",
        "    cmap = ListedColormap(colors[:len(np.unique(y))])\n",
        "\n",
        "    # plot the decision surface\n",
        "    x1_min, x1_max = X[:, 0].min() - 1, X[:, 0].max() + 1\n",
        "    x2_min, x2_max = X[:, 1].min() - 1, X[:, 1].max() + 1\n",
        "    xx1, xx2 = np.meshgrid(np.arange(x1_min, x1_max, resolution),\n",
        "                           np.arange(x2_min, x2_max, resolution))\n",
        "    Z = classifier.predict(np.array([xx1.ravel(), xx2.ravel()]).T)\n",
        "    Z = Z.reshape(xx1.shape)\n",
        "    plt.contourf(xx1, xx2, Z, alpha=0.4, cmap=cmap)\n",
        "    plt.xlim(xx1.min(), xx1.max())\n",
        "    plt.ylim(xx2.min(), xx2.max())\n",
        "\n",
        "    for idx, cl in enumerate(np.unique(y)):\n",
        "        plt.scatter(x=X[y == cl, 0], \n",
        "                    y=X[y == cl, 1],\n",
        "                    alpha=0.6, \n",
        "                    c=[cmap(idx)]*sum(y == cl),\n",
        "                    edgecolor='black',\n",
        "                    marker=markers[idx], \n",
        "                    label=cl)\n",
        "\n",
        "    # highlight test samples\n",
        "    if test_idx:\n",
        "        # plot all samples\n",
        "        if not versiontuple(np.__version__) >= versiontuple('1.9.0'):\n",
        "            X_test, y_test = X[list(test_idx), :], y[list(test_idx)]\n",
        "            warnings.warn('Please update to NumPy 1.9.0 or newer')\n",
        "        else:\n",
        "            X_test, y_test = X[test_idx, :], y[test_idx]\n",
        "\n",
        "        plt.scatter(X_test[:, 0],\n",
        "                    X_test[:, 1],\n",
        "                    c='',\n",
        "                    alpha=1.0,\n",
        "                    edgecolor='black',\n",
        "                    linewidths=1,\n",
        "                    marker='o',\n",
        "                    s=55, label='test set')"
      ],
      "execution_count": null,
      "outputs": []
    },
    {
      "cell_type": "markdown",
      "metadata": {
        "id": "avT4hf4TnIr9"
      },
      "source": [
        "---\n",
        "### Loading the IRIS data"
      ]
    },
    {
      "cell_type": "code",
      "metadata": {
        "id": "xJchs3iXnIr-"
      },
      "source": [
        "import pandas as pd\n",
        "\n",
        "df = pd.read_csv('https://archive.ics.uci.edu/ml/'\n",
        "        'machine-learning-databases/iris/iris.data', names= ['Sepal Length', 'Sepal Width', 'Petal Length', 'Petal Width', 'Label'])"
      ],
      "execution_count": null,
      "outputs": []
    },
    {
      "cell_type": "code",
      "metadata": {
        "id": "6gxuobqGnIr-",
        "outputId": "88dd84a9-df9d-47b2-f280-0e0b4e7b0d48"
      },
      "source": [
        "df.head()"
      ],
      "execution_count": null,
      "outputs": [
        {
          "output_type": "execute_result",
          "data": {
            "text/html": [
              "<div>\n",
              "<style scoped>\n",
              "    .dataframe tbody tr th:only-of-type {\n",
              "        vertical-align: middle;\n",
              "    }\n",
              "\n",
              "    .dataframe tbody tr th {\n",
              "        vertical-align: top;\n",
              "    }\n",
              "\n",
              "    .dataframe thead th {\n",
              "        text-align: right;\n",
              "    }\n",
              "</style>\n",
              "<table border=\"1\" class=\"dataframe\">\n",
              "  <thead>\n",
              "    <tr style=\"text-align: right;\">\n",
              "      <th></th>\n",
              "      <th>Sepal Length</th>\n",
              "      <th>Sepal Width</th>\n",
              "      <th>Petal Length</th>\n",
              "      <th>Petal Width</th>\n",
              "      <th>Label</th>\n",
              "    </tr>\n",
              "  </thead>\n",
              "  <tbody>\n",
              "    <tr>\n",
              "      <th>0</th>\n",
              "      <td>5.1</td>\n",
              "      <td>3.5</td>\n",
              "      <td>1.4</td>\n",
              "      <td>0.2</td>\n",
              "      <td>Iris-setosa</td>\n",
              "    </tr>\n",
              "    <tr>\n",
              "      <th>1</th>\n",
              "      <td>4.9</td>\n",
              "      <td>3.0</td>\n",
              "      <td>1.4</td>\n",
              "      <td>0.2</td>\n",
              "      <td>Iris-setosa</td>\n",
              "    </tr>\n",
              "    <tr>\n",
              "      <th>2</th>\n",
              "      <td>4.7</td>\n",
              "      <td>3.2</td>\n",
              "      <td>1.3</td>\n",
              "      <td>0.2</td>\n",
              "      <td>Iris-setosa</td>\n",
              "    </tr>\n",
              "    <tr>\n",
              "      <th>3</th>\n",
              "      <td>4.6</td>\n",
              "      <td>3.1</td>\n",
              "      <td>1.5</td>\n",
              "      <td>0.2</td>\n",
              "      <td>Iris-setosa</td>\n",
              "    </tr>\n",
              "    <tr>\n",
              "      <th>4</th>\n",
              "      <td>5.0</td>\n",
              "      <td>3.6</td>\n",
              "      <td>1.4</td>\n",
              "      <td>0.2</td>\n",
              "      <td>Iris-setosa</td>\n",
              "    </tr>\n",
              "  </tbody>\n",
              "</table>\n",
              "</div>"
            ],
            "text/plain": [
              "   Sepal Length  Sepal Width  Petal Length  Petal Width        Label\n",
              "0           5.1          3.5           1.4          0.2  Iris-setosa\n",
              "1           4.9          3.0           1.4          0.2  Iris-setosa\n",
              "2           4.7          3.2           1.3          0.2  Iris-setosa\n",
              "3           4.6          3.1           1.5          0.2  Iris-setosa\n",
              "4           5.0          3.6           1.4          0.2  Iris-setosa"
            ]
          },
          "metadata": {
            "tags": []
          },
          "execution_count": 3
        }
      ]
    },
    {
      "cell_type": "code",
      "metadata": {
        "id": "8B_R7PuBnIr_"
      },
      "source": [
        "# Prepare data matrix and labels\n",
        "\n",
        "import numpy as np\n",
        "from sklearn.preprocessing import LabelEncoder\n",
        "\n",
        "X = df.iloc[:, [2, 3]].values\n",
        "y = df.iloc[:, 4].values\n",
        "enc_y = LabelEncoder()\n",
        "enc_y.fit(y)\n",
        "y = enc_y.transform(y)\n",
        "feature_names = df.columns.values[[2,3]]\n",
        "\n",
        "from sklearn.model_selection import train_test_split\n",
        "\n",
        "X_train, X_test, y_train, y_test = train_test_split(\n",
        "    X, y, test_size=0.3, random_state=0)\n",
        "X_train, X_val, y_train, y_val = train_test_split(\n",
        "    X_train, y_train, test_size=0.3, random_state=0)\n"
      ],
      "execution_count": null,
      "outputs": []
    },
    {
      "cell_type": "markdown",
      "metadata": {
        "id": "FQY7jcWMnIsA"
      },
      "source": [
        "---\n",
        "## Random Forest\n",
        "\n",
        "Combine **weak learners** to build a **strong** learner (Ensemble models)\n",
        "\n",
        "Training data:\n",
        "- $n$: number of samples\n",
        "- $p$: number of features\n",
        "\n",
        "Building a random forest:\n",
        "1. Draw a random **bootstrap** sample of size n (sampling with replacement)\n",
        "2. Make a **weak** decision tree from the bootstrap sample. At each node:\n",
        "   - Choose $d$ features at random without replacement (defalut: $d = \\sqrt{p}$)\n",
        "   - Depth=1 often used (a decion tree with depth=1 is called a decision stump)\n",
        "3. Repleat above steps for $k$ times (building $k$ trees)\n",
        "4. Aggregate the prediction by each tree by **majority voting**"
      ]
    },
    {
      "cell_type": "markdown",
      "metadata": {
        "id": "RL6UyKrqnIsA"
      },
      "source": [
        "Pros:\n",
        " - Much more robust to input noise than individual trees\n",
        " - Prediction performance gets better as $k$ grows.\n",
        " \n",
        "Cons:\n",
        " - Large computational cost for large $k$ (but we can make use of parallel computation)"
      ]
    },
    {
      "cell_type": "code",
      "metadata": {
        "id": "ta9JqkRjnIsA",
        "outputId": "a3a3eb10-a410-4fcb-d282-b21d0c20ca39"
      },
      "source": [
        "from sklearn.ensemble import RandomForestClassifier\n",
        "import matplotlib.pyplot as plt\n",
        "from sklearn.metrics import accuracy_score\n",
        "\n",
        "forest = RandomForestClassifier(criterion='entropy',\n",
        "                                n_estimators=25, # 25\n",
        "                                max_features='sqrt', #auto, sqrt, log2, None\n",
        "                                max_depth=1, # 1\n",
        "                                random_state=1,\n",
        "                                n_jobs=2)\n",
        "forest.fit(X_train, y_train)\n",
        "\n",
        "plot_decision_regions(X_train, y_train, classifier=forest)\n",
        "\n",
        "plt.xlabel('petal length [cm]')\n",
        "plt.ylabel('petal width [cm]')\n",
        "plt.legend(loc='upper left')\n",
        "plt.tight_layout()\n",
        "plt.show()\n",
        "\n",
        "print('Train accuracy: %f' % accuracy_score(forest.predict(X_train), y_train))\n",
        "print('Test accuracy: %f' % accuracy_score(forest.predict(X_test), y_test))"
      ],
      "execution_count": null,
      "outputs": [
        {
          "output_type": "display_data",
          "data": {
            "image/png": "[encoded data removed]",
            "text/plain": [
              "<Figure size 432x288 with 1 Axes>"
            ]
          },
          "metadata": {
            "tags": [],
            "needs_background": "light"
          }
        },
        {
          "output_type": "stream",
          "text": [
            "Train accuracy: 0.972603\n",
            "Test accuracy: 0.977778\n"
          ],
          "name": "stdout"
        }
      ]
    },
    {
      "cell_type": "markdown",
      "metadata": {
        "id": "4ziU5x4UnIsB"
      },
      "source": [
        "---\n",
        "### RF: Feature Importance"
      ]
    },
    {
      "cell_type": "code",
      "metadata": {
        "id": "2eyw5f-gnIsB",
        "outputId": "ea20b6bd-5e58-4aa7-e788-ab00fd038f1a"
      },
      "source": [
        "forest.feature_importances_"
      ],
      "execution_count": null,
      "outputs": [
        {
          "output_type": "execute_result",
          "data": {
            "text/plain": [
              "array([0.64, 0.36])"
            ]
          },
          "metadata": {
            "tags": []
          },
          "execution_count": 6
        }
      ]
    },
    {
      "cell_type": "code",
      "metadata": {
        "id": "awcWT4j5nIsC",
        "outputId": "d6f150da-d200-4c04-ba4d-c9406e799057"
      },
      "source": [
        "forest.feature_importances_\n",
        "\n",
        "y_ticks = np.arange(0, X.shape[1])\n",
        "fig, ax = plt.subplots()\n",
        "ax.barh(y_ticks, forest.feature_importances_)\n",
        "ax.set_yticklabels(feature_names)\n",
        "ax.set_yticks(y_ticks)\n",
        "ax.set_title(\"Random Forest Feature Importances (MDI)\") # MDI: Mean Decrease in Impurity\n",
        "fig.tight_layout()\n",
        "plt.show()"
      ],
      "execution_count": null,
      "outputs": [
        {
          "output_type": "stream",
          "text": [
            "<ipython-input-7-8bc0b4625950>:6: UserWarning: FixedFormatter should only be used together with FixedLocator\n",
            "  ax.set_yticklabels(feature_names)\n"
          ],
          "name": "stderr"
        },
        {
          "output_type": "display_data",
          "data": {
            "image/png": "[encoded data removed]",
            "text/plain": [
              "<Figure size 432x288 with 1 Axes>"
            ]
          },
          "metadata": {
            "tags": [],
            "needs_background": "light"
          }
        }
      ]
    },
    {
      "cell_type": "markdown",
      "metadata": {
        "id": "OsByt56-nIsC"
      },
      "source": [
        "---\n",
        "## Logistic Regression\n",
        "\n",
        "#### Data\n",
        " - Input: $x^{(i)} \\in X$\n",
        " - Label: $y^{(i)} \\in \\{0,1\\}$ (Binary classification)\n",
        " - $i=1,2,\\dots,n$\n",
        "\n",
        "#### Class probabilities:\n",
        "\n",
        "$$\n",
        "p = \\mathbb P(Y=1 | X=x) \\\\\n",
        "1-p = \\mathbb P(Y=0 | X=x)\n",
        "$$\n",
        "\n",
        "#### Log odds-ratio (logit)\n",
        "$$\n",
        "  \\log \\frac{p}{1-p}\n",
        "$$\n",
        "\n",
        "- If logit > 0, decision is $Y=1$\n",
        "- Otherwise, $Y=0$\n"
      ]
    },
    {
      "cell_type": "markdown",
      "metadata": {
        "id": "o9lF7XC8nIsC"
      },
      "source": [
        "#### Modeling the logit with a linear function:\n",
        "\n",
        "$$\n",
        "  \\log \\frac{p}{1-p} = w^T x = \\sum_{i=1}^m w_i x_i\n",
        "$$\n",
        "\n",
        "Reordering the terms in p, we get the following expression:\n",
        "\n",
        "$$\n",
        " p = \\mathbb P(Y=1 | X=x) = \\frac{1}{1 + \\exp(-w^Tx)}\n",
        "$$\n",
        "\n",
        "We call the function $\\sigma(z) = \\frac{1}{1+\\exp(-z)}$ as the **sigmoid** function"
      ]
    },
    {
      "cell_type": "markdown",
      "metadata": {
        "id": "JM-WO9BrnIsC"
      },
      "source": [
        "#### Sigmoid Function"
      ]
    },
    {
      "cell_type": "code",
      "metadata": {
        "id": "TK1ZagiXnIsD",
        "outputId": "39f076c1-48d2-4474-c96a-3c1ec829d94c"
      },
      "source": [
        "import matplotlib.pyplot as plt\n",
        "import numpy as np\n",
        "\n",
        "def sigmoid(z):\n",
        "    return 1.0 / (1.0 + np.exp(-z))\n",
        "\n",
        "z = np.arange(-7, 7, 0.1)\n",
        "phi_z = sigmoid(z)\n",
        "\n",
        "plt.plot(z, phi_z)\n",
        "plt.axvline(0.0, color='k')\n",
        "plt.ylim(-0.1, 1.1)\n",
        "plt.xlabel('z')\n",
        "plt.ylabel('$\\sigma (z)$')\n",
        "\n",
        "# y axis ticks and gridline\n",
        "plt.yticks([0.0, 0.5, 1.0])\n",
        "ax = plt.gca()\n",
        "ax.yaxis.grid(True)\n",
        "\n",
        "plt.tight_layout()\n",
        "plt.show()"
      ],
      "execution_count": null,
      "outputs": [
        {
          "output_type": "display_data",
          "data": {
            "image/png": "[encoded data removed]",
            "text/plain": [
              "<Figure size 432x288 with 1 Axes>"
            ]
          },
          "metadata": {
            "tags": [],
            "needs_background": "light"
          }
        }
      ]
    },
    {
      "cell_type": "markdown",
      "metadata": {
        "id": "NcmLwch4nIsD"
      },
      "source": [
        "---"
      ]
    },
    {
      "cell_type": "markdown",
      "metadata": {
        "id": "fLmq4ocmnIsD"
      },
      "source": [
        "### LR can be seen as a simple neural network (perceptron)"
      ]
    },
    {
      "cell_type": "markdown",
      "metadata": {
        "id": "4Enr2tEEnIsD"
      },
      "source": [
        "<img src=\"https://raw.githubusercontent.com/sanglee/BDS_WS/master/img/03_03.png\" width=700>"
      ]
    },
    {
      "cell_type": "markdown",
      "metadata": {
        "id": "7lf53-0XnIsE"
      },
      "source": [
        "---"
      ]
    },
    {
      "cell_type": "markdown",
      "metadata": {
        "id": "zkvEa8eSnIsE"
      },
      "source": [
        "### Learning by Maximum Likelihood Estimation (MLE)\n",
        "\n",
        "- We make **i.i.d.** assumption on data points:\n",
        "  - Data points are **independently** sampled,\n",
        "  - Each data point is sampled according to our model, $\\mathbb P(Y=1|X=x)$ (**identically distributed**)\n",
        "\n",
        "#### Likelihood function\n",
        "\n",
        "- The (conditional) probability of observing the training data $(x^{(i)},y^{(i)})$, $i=1,2, \\dots, n$\n",
        "\n",
        "$$\n",
        " L(w) = \\mathbb P(y^{(1)},y^{(2)},\\dots,y^{(n)}|x^{(1)},x^{(2)},\\dots,x^{(n)};w) = \\prod_{i=1}^n \\mathbb P(y^{(i)}|x^{(i)};w) = \\prod_{i=1}^n \\sigma(z^{(i)})^{y^{(i)}} (1-\\sigma(z^{(i)}))^{1-y^{(i)}} \n",
        "$$\n",
        "\n",
        "- Note that the labels are $y^{(i)} \\in \\{0,1\\}$\n",
        "\n",
        "#### Log Likelihood Function\n",
        "$$\n",
        " \\ell(w) = \\log L(w) = \\sum_{i=1}^n y^{(i)} \\log \\sigma(w^Tx^{(i)}) + (1-y^{(i)}) \\log (1-\\sigma(w^Tx^{(i)}))\n",
        "$$\n",
        "\n",
        "#### Logistic Regression Training Problem\n",
        "$$\n",
        "\\max_w \\;\\; \\ell(w)\n",
        "$$"
      ]
    },
    {
      "cell_type": "markdown",
      "metadata": {
        "id": "kJf8AZS4nIsE"
      },
      "source": [
        "---\n",
        "### LR in Scikit-learn"
      ]
    },
    {
      "cell_type": "code",
      "metadata": {
        "id": "e6Tdapp1nIsF",
        "outputId": "d6a80068-f378-4d96-bd35-9ceb9e5479e2"
      },
      "source": [
        "from sklearn.linear_model import LogisticRegression\n",
        "from sklearn.metrics import accuracy_score\n",
        "\n",
        "lr = LogisticRegression()\n",
        "lr.fit(X_train, y_train)\n",
        "\n",
        "plot_decision_regions(X_train, y_train, classifier=lr)\n",
        "plt.xlabel('petal length [cm]')\n",
        "plt.ylabel('petal width [cm]')\n",
        "plt.legend(loc='upper left')\n",
        "\n",
        "print('Train accuracy: %f' % accuracy_score(lr.predict(X_train), y_train))\n",
        "print('Test accuracy: %f' % accuracy_score(lr.predict(X_test), y_test))\n",
        "#print(lr.predict_proba(X_test)) # probability output"
      ],
      "execution_count": null,
      "outputs": [
        {
          "output_type": "stream",
          "text": [
            "Train accuracy: 0.958904\n",
            "Test accuracy: 0.977778\n"
          ],
          "name": "stdout"
        },
        {
          "output_type": "display_data",
          "data": {
            "image/png": "[encoded data removed]",
            "text/plain": [
              "<Figure size 432x288 with 1 Axes>"
            ]
          },
          "metadata": {
            "tags": [],
            "needs_background": "light"
          }
        }
      ]
    },
    {
      "cell_type": "markdown",
      "metadata": {
        "id": "09zg0vuKnIsF"
      },
      "source": [
        "---"
      ]
    },
    {
      "cell_type": "markdown",
      "metadata": {
        "id": "aF5nMjExnIsF"
      },
      "source": [
        "### Underfitting vs. Overfitting"
      ]
    },
    {
      "cell_type": "markdown",
      "metadata": {
        "id": "n02qDZ9hnIsF"
      },
      "source": [
        "<img src=\"https://raw.githubusercontent.com/sanglee/BDS_WS/master/img/03_06.png\" width=700>"
      ]
    },
    {
      "cell_type": "markdown",
      "metadata": {
        "id": "TPnJOrZbnIsF"
      },
      "source": [
        "#### Regularized Logistic Regression Training Problem\n",
        "$$\n",
        "\\max_w \\;\\; \\ell(w) + C \\|w\\|_2^2\n",
        "$$"
      ]
    },
    {
      "cell_type": "code",
      "metadata": {
        "id": "Vn650V3anIsG",
        "outputId": "0d4e5868-e415-4625-f80e-dffa4d5b8158"
      },
      "source": [
        "from sklearn.preprocessing import StandardScaler\n",
        "sc = StandardScaler()\n",
        "sc.fit(X_train)\n",
        "X_train_std = sc.transform(X_train)\n",
        "X_val_std = sc.transform(X_val)\n",
        "X_test_std = sc.transform(X_test)\n",
        "\n",
        "# C large => simpler\n",
        "#\n",
        "\n",
        "weights, params, perf = [], [], []\n",
        "for c in np.arange(-5., 5.):\n",
        "    lr = LogisticRegression(C=10.**c) # penalty='l2' by default\n",
        "#     lr.fit(X_train, y_train)\n",
        "    lr.fit(X_train_std, y_train)\n",
        "    weights.append(lr.coef_[1])\n",
        "    params.append(10**c)\n",
        "#     y_pred = lr.predict(X_val)\n",
        "    y_pred = lr.predict(X_val_std)\n",
        "    perf.append(accuracy_score(y_pred, y_val))\n",
        "\n",
        "perf_max = np.max(perf)\n",
        "    \n",
        "plt.figure(figsize=(10,5))\n",
        "plt.subplot(1,2,1)\n",
        "weights = np.array(weights)\n",
        "plt.plot(params, weights[:, 0],\n",
        "         label='petal length')\n",
        "plt.plot(params, weights[:, 1], linestyle='--',\n",
        "         label='petal width')\n",
        "plt.ylabel('weight coefficient')\n",
        "plt.xlabel('C')\n",
        "plt.legend(loc='upper left')\n",
        "plt.xscale('log')\n",
        "plt.title('Solution path of LR')\n",
        "plt.axvline(perf_max, 0, 2, color=\"red\", linestyle=':', linewidth=.5)\n",
        "\n",
        "plt.subplot(1,2,2)\n",
        "plt.plot(params, perf)\n",
        "plt.xlabel('C')\n",
        "plt.xscale('log')\n",
        "plt.title('Validation performance')\n",
        "plt.axvline(perf_max, 0, 1, color=\"red\", linestyle=':', linewidth=.5)\n",
        "plt.tight_layout()"
      ],
      "execution_count": null,
      "outputs": [
        {
          "output_type": "display_data",
          "data": {
            "image/png": "[encoded data removed]",
            "text/plain": [
              "<Figure size 720x360 with 2 Axes>"
            ]
          },
          "metadata": {
            "tags": [],
            "needs_background": "light"
          }
        }
      ]
    },
    {
      "cell_type": "code",
      "metadata": {
        "id": "-WqhdPusnIsG",
        "outputId": "509e4e36-25ee-4b7d-aea5-b6f1ac96305f"
      },
      "source": [
        "# plot data\n",
        "plt.scatter(X[:50, 0], X[:50, 1],\n",
        "            color='red', marker='o', label='setosa')\n",
        "plt.scatter(X[50:100, 0], X[50:100, 1],\n",
        "            color='blue', marker='x', label='versicolor')\n",
        "\n",
        "plt.xlabel('petal length [cm]')\n",
        "plt.ylabel('petal width [cm]')\n",
        "plt.legend(loc='upper left')\n",
        "\n",
        "plt.tight_layout()\n",
        "plt.show()"
      ],
      "execution_count": null,
      "outputs": [
        {
          "output_type": "display_data",
          "data": {
            "image/png": "[encoded data removed]",
            "text/plain": [
              "<Figure size 432x288 with 1 Axes>"
            ]
          },
          "metadata": {
            "tags": [],
            "needs_background": "light"
          }
        }
      ]
    },
    {
      "cell_type": "markdown",
      "metadata": {
        "id": "GlUPEnxunIsG"
      },
      "source": [
        "---\n",
        "## Summary"
      ]
    },
    {
      "cell_type": "markdown",
      "metadata": {
        "id": "mzkb5xscnIsG"
      },
      "source": [
        "__Supervised Learning: Classification__\n",
        "\n",
        "\n",
        "__Random Forest__\n",
        "- Ensemble learning: use a collection of weak classifiers with majority voting\n",
        "  - Random Forest: a collection of simple decision trees (decision stump)\n",
        "- Hyperparameters\n",
        "  - criterion='entropy'\n",
        "  - n_estimators\n",
        "  - max_features\n",
        "  - max_depth\n",
        "- Pros\n",
        "  - Robust to input noise\n",
        "  - Sampling on both samples & features: data can be used as much as possible, even in the existence of missing values\n",
        "  - Feature scaling is not needed\n",
        "- Cons\n",
        "  - Time to compute many weak classifiers\n",
        "\n",
        "__Logistic Regression__\n",
        "- Model the probability of classes\n",
        "- Learns a linear (simple) decision boundary\n",
        "  - LR is indeed the same as the perceptron (the simplest neural network without hidden layers)\n",
        "- Overfitting is controlled by regularization\n",
        "- Learning is done by well-established statistical method, MLE\n",
        "  - The technique is also used for learning deep neural networks"
      ]
    },
    {
      "cell_type": "code",
      "metadata": {
        "id": "4GW1YXyfnIsG"
      },
      "source": [
        ""
      ],
      "execution_count": null,
      "outputs": []
    }
  ]
}